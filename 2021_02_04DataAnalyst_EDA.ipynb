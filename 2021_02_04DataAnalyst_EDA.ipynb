{
  "nbformat": 4,
  "nbformat_minor": 0,
  "metadata": {
    "colab": {
      "name": "2021-02-04DataAnalyst EDA.ipynb",
      "provenance": [],
      "collapsed_sections": [],
      "authorship_tag": "ABX9TyNMDxHO6kARGs0M9uiUvgeM",
      "include_colab_link": true
    },
    "kernelspec": {
      "name": "python3",
      "display_name": "Python 3"
    }
  },
  "cells": [
    {
      "cell_type": "markdown",
      "metadata": {
        "id": "view-in-github",
        "colab_type": "text"
      },
      "source": [
        "<a href=\"https://colab.research.google.com/github/Eddy109109/DKU/blob/main/2021_02_04DataAnalyst_EDA.ipynb\" target=\"_parent\"><img src=\"https://colab.research.google.com/assets/colab-badge.svg\" alt=\"Open In Colab\"/></a>"
      ]
    },
    {
      "cell_type": "code",
      "metadata": {
        "id": "Wuuw148Eo0vz"
      },
      "source": [
        ""
      ],
      "execution_count": null,
      "outputs": []
    },
    {
      "cell_type": "code",
      "metadata": {
        "id": "RdN3tXWOo86R"
      },
      "source": [
        ""
      ],
      "execution_count": null,
      "outputs": []
    },
    {
      "cell_type": "code",
      "metadata": {
        "colab": {
          "base_uri": "https://localhost:8080/"
        },
        "id": "42hp0jsGo9jR",
        "outputId": "7cc99cad-ac7f-4593-c5ce-5ef6ee590a36"
      },
      "source": [
        "import pandas as pd\r\n",
        "import numpy as np\r\n",
        "import matplotlib.pyplot as plt\r\n",
        "import seaborn as sns\r\n",
        "import re\r\n",
        "from wordcloud import WordCloud\r\n",
        "import string\r\n",
        "import nltk\r\n",
        "from nltk.corpus import stopwords\r\n",
        "!pip install chart-studio\r\n",
        "import chart_studio.plotly as py \r\n",
        "import plotly.graph_objs as go\r\n",
        "from plotly.offline import download_plotlyjs, init_notebook_mode, plot, iplot\r\n",
        "from collections import defaultdict\r\n",
        "import warnings\r\n",
        "warnings.filterwarnings(\"ignore\")\r\n",
        "nltk.download('stopwords')\r\n",
        "pd.set_option('display.max_rows', 500)\r\n",
        "pd.set_option('display.max_columns', 500)\r\n",
        "pd.set_option('display.width', 1000)"
      ],
      "execution_count": null,
      "outputs": [
        {
          "output_type": "stream",
          "text": [
            "Collecting chart-studio\n",
            "\u001b[?25l  Downloading https://files.pythonhosted.org/packages/ca/ce/330794a6b6ca4b9182c38fc69dd2a9cbff60fd49421cb8648ee5fee352dc/chart_studio-1.1.0-py3-none-any.whl (64kB)\n",
            "\r\u001b[K     |█████                           | 10kB 18.0MB/s eta 0:00:01\r\u001b[K     |██████████▏                     | 20kB 22.6MB/s eta 0:00:01\r\u001b[K     |███████████████▎                | 30kB 11.5MB/s eta 0:00:01\r\u001b[K     |████████████████████▍           | 40kB 8.7MB/s eta 0:00:01\r\u001b[K     |█████████████████████████▍      | 51kB 4.4MB/s eta 0:00:01\r\u001b[K     |██████████████████████████████▌ | 61kB 4.9MB/s eta 0:00:01\r\u001b[K     |████████████████████████████████| 71kB 3.5MB/s \n",
            "\u001b[?25hRequirement already satisfied: plotly in /usr/local/lib/python3.6/dist-packages (from chart-studio) (4.4.1)\n",
            "Requirement already satisfied: requests in /usr/local/lib/python3.6/dist-packages (from chart-studio) (2.23.0)\n",
            "Requirement already satisfied: six in /usr/local/lib/python3.6/dist-packages (from chart-studio) (1.15.0)\n",
            "Requirement already satisfied: retrying>=1.3.3 in /usr/local/lib/python3.6/dist-packages (from chart-studio) (1.3.3)\n",
            "Requirement already satisfied: chardet<4,>=3.0.2 in /usr/local/lib/python3.6/dist-packages (from requests->chart-studio) (3.0.4)\n",
            "Requirement already satisfied: idna<3,>=2.5 in /usr/local/lib/python3.6/dist-packages (from requests->chart-studio) (2.10)\n",
            "Requirement already satisfied: urllib3!=1.25.0,!=1.25.1,<1.26,>=1.21.1 in /usr/local/lib/python3.6/dist-packages (from requests->chart-studio) (1.24.3)\n",
            "Requirement already satisfied: certifi>=2017.4.17 in /usr/local/lib/python3.6/dist-packages (from requests->chart-studio) (2020.12.5)\n",
            "Installing collected packages: chart-studio\n",
            "Successfully installed chart-studio-1.1.0\n",
            "[nltk_data] Downloading package stopwords to /root/nltk_data...\n",
            "[nltk_data]   Unzipping corpora/stopwords.zip.\n"
          ],
          "name": "stdout"
        }
      ]
    },
    {
      "cell_type": "code",
      "metadata": {
        "id": "A9mxUQEvo9hC"
      },
      "source": [
        "df = pd.read_csv(\"DataAnalyst.csv\")"
      ],
      "execution_count": null,
      "outputs": []
    },
    {
      "cell_type": "code",
      "metadata": {
        "colab": {
          "base_uri": "https://localhost:8080/",
          "height": 383
        },
        "id": "aY_4FAHyo9ep",
        "outputId": "771ca1c7-92a8-445a-cdaf-da3d76916e57"
      },
      "source": [
        "df.head(3)"
      ],
      "execution_count": null,
      "outputs": [
        {
          "output_type": "execute_result",
          "data": {
            "text/html": [
              "<div>\n",
              "<style scoped>\n",
              "    .dataframe tbody tr th:only-of-type {\n",
              "        vertical-align: middle;\n",
              "    }\n",
              "\n",
              "    .dataframe tbody tr th {\n",
              "        vertical-align: top;\n",
              "    }\n",
              "\n",
              "    .dataframe thead th {\n",
              "        text-align: right;\n",
              "    }\n",
              "</style>\n",
              "<table border=\"1\" class=\"dataframe\">\n",
              "  <thead>\n",
              "    <tr style=\"text-align: right;\">\n",
              "      <th></th>\n",
              "      <th>Unnamed: 0</th>\n",
              "      <th>Job Title</th>\n",
              "      <th>Salary Estimate</th>\n",
              "      <th>Job Description</th>\n",
              "      <th>Rating</th>\n",
              "      <th>Company Name</th>\n",
              "      <th>Location</th>\n",
              "      <th>Headquarters</th>\n",
              "      <th>Size</th>\n",
              "      <th>Founded</th>\n",
              "      <th>Type of ownership</th>\n",
              "      <th>Industry</th>\n",
              "      <th>Sector</th>\n",
              "      <th>Revenue</th>\n",
              "      <th>Competitors</th>\n",
              "      <th>Easy Apply</th>\n",
              "    </tr>\n",
              "  </thead>\n",
              "  <tbody>\n",
              "    <tr>\n",
              "      <th>0</th>\n",
              "      <td>0</td>\n",
              "      <td>Data Analyst, Center on Immigration and Justic...</td>\n",
              "      <td>$37K-$66K (Glassdoor est.)</td>\n",
              "      <td>Are you eager to roll up your sleeves and harn...</td>\n",
              "      <td>3.2</td>\n",
              "      <td>Vera Institute of Justice\\n3.2</td>\n",
              "      <td>New York, NY</td>\n",
              "      <td>New York, NY</td>\n",
              "      <td>201 to 500 employees</td>\n",
              "      <td>1961</td>\n",
              "      <td>Nonprofit Organization</td>\n",
              "      <td>Social Assistance</td>\n",
              "      <td>Non-Profit</td>\n",
              "      <td>$100 to $500 million (USD)</td>\n",
              "      <td>-1</td>\n",
              "      <td>True</td>\n",
              "    </tr>\n",
              "    <tr>\n",
              "      <th>1</th>\n",
              "      <td>1</td>\n",
              "      <td>Quality Data Analyst</td>\n",
              "      <td>$37K-$66K (Glassdoor est.)</td>\n",
              "      <td>Overview\\n\\nProvides analytical and technical ...</td>\n",
              "      <td>3.8</td>\n",
              "      <td>Visiting Nurse Service of New York\\n3.8</td>\n",
              "      <td>New York, NY</td>\n",
              "      <td>New York, NY</td>\n",
              "      <td>10000+ employees</td>\n",
              "      <td>1893</td>\n",
              "      <td>Nonprofit Organization</td>\n",
              "      <td>Health Care Services &amp; Hospitals</td>\n",
              "      <td>Health Care</td>\n",
              "      <td>$2 to $5 billion (USD)</td>\n",
              "      <td>-1</td>\n",
              "      <td>-1</td>\n",
              "    </tr>\n",
              "    <tr>\n",
              "      <th>2</th>\n",
              "      <td>2</td>\n",
              "      <td>Senior Data Analyst, Insights &amp; Analytics Team...</td>\n",
              "      <td>$37K-$66K (Glassdoor est.)</td>\n",
              "      <td>We’re looking for a Senior Data Analyst who ha...</td>\n",
              "      <td>3.4</td>\n",
              "      <td>Squarespace\\n3.4</td>\n",
              "      <td>New York, NY</td>\n",
              "      <td>New York, NY</td>\n",
              "      <td>1001 to 5000 employees</td>\n",
              "      <td>2003</td>\n",
              "      <td>Company - Private</td>\n",
              "      <td>Internet</td>\n",
              "      <td>Information Technology</td>\n",
              "      <td>Unknown / Non-Applicable</td>\n",
              "      <td>GoDaddy</td>\n",
              "      <td>-1</td>\n",
              "    </tr>\n",
              "  </tbody>\n",
              "</table>\n",
              "</div>"
            ],
            "text/plain": [
              "   Unnamed: 0                                          Job Title             Salary Estimate                                    Job Description  Rating                             Company Name      Location  Headquarters                    Size  Founded       Type of ownership                          Industry                  Sector                     Revenue Competitors Easy Apply\n",
              "0           0  Data Analyst, Center on Immigration and Justic...  $37K-$66K (Glassdoor est.)  Are you eager to roll up your sleeves and harn...     3.2           Vera Institute of Justice\\n3.2  New York, NY  New York, NY    201 to 500 employees     1961  Nonprofit Organization                 Social Assistance              Non-Profit  $100 to $500 million (USD)          -1       True\n",
              "1           1                               Quality Data Analyst  $37K-$66K (Glassdoor est.)  Overview\\n\\nProvides analytical and technical ...     3.8  Visiting Nurse Service of New York\\n3.8  New York, NY  New York, NY        10000+ employees     1893  Nonprofit Organization  Health Care Services & Hospitals             Health Care      $2 to $5 billion (USD)          -1         -1\n",
              "2           2  Senior Data Analyst, Insights & Analytics Team...  $37K-$66K (Glassdoor est.)  We’re looking for a Senior Data Analyst who ha...     3.4                         Squarespace\\n3.4  New York, NY  New York, NY  1001 to 5000 employees     2003       Company - Private                          Internet  Information Technology    Unknown / Non-Applicable     GoDaddy         -1"
            ]
          },
          "metadata": {
            "tags": []
          },
          "execution_count": 7
        }
      ]
    },
    {
      "cell_type": "code",
      "metadata": {
        "id": "SYTi3Tlao9cB"
      },
      "source": [
        "df = df.drop('Unnamed: 0', axis = 1)"
      ],
      "execution_count": null,
      "outputs": []
    },
    {
      "cell_type": "code",
      "metadata": {
        "colab": {
          "base_uri": "https://localhost:8080/",
          "height": 288
        },
        "id": "kfAphsttqNUS",
        "outputId": "28a0f84e-c68a-49b3-c144-00fcd2f560ac"
      },
      "source": [
        "df.describe()"
      ],
      "execution_count": null,
      "outputs": [
        {
          "output_type": "execute_result",
          "data": {
            "text/html": [
              "<div>\n",
              "<style scoped>\n",
              "    .dataframe tbody tr th:only-of-type {\n",
              "        vertical-align: middle;\n",
              "    }\n",
              "\n",
              "    .dataframe tbody tr th {\n",
              "        vertical-align: top;\n",
              "    }\n",
              "\n",
              "    .dataframe thead th {\n",
              "        text-align: right;\n",
              "    }\n",
              "</style>\n",
              "<table border=\"1\" class=\"dataframe\">\n",
              "  <thead>\n",
              "    <tr style=\"text-align: right;\">\n",
              "      <th></th>\n",
              "      <th>Rating</th>\n",
              "      <th>Founded</th>\n",
              "    </tr>\n",
              "  </thead>\n",
              "  <tbody>\n",
              "    <tr>\n",
              "      <th>count</th>\n",
              "      <td>2253.000000</td>\n",
              "      <td>2253.000000</td>\n",
              "    </tr>\n",
              "    <tr>\n",
              "      <th>mean</th>\n",
              "      <td>3.160630</td>\n",
              "      <td>1398.522858</td>\n",
              "    </tr>\n",
              "    <tr>\n",
              "      <th>std</th>\n",
              "      <td>1.665228</td>\n",
              "      <td>901.929251</td>\n",
              "    </tr>\n",
              "    <tr>\n",
              "      <th>min</th>\n",
              "      <td>-1.000000</td>\n",
              "      <td>-1.000000</td>\n",
              "    </tr>\n",
              "    <tr>\n",
              "      <th>25%</th>\n",
              "      <td>3.100000</td>\n",
              "      <td>-1.000000</td>\n",
              "    </tr>\n",
              "    <tr>\n",
              "      <th>50%</th>\n",
              "      <td>3.600000</td>\n",
              "      <td>1979.000000</td>\n",
              "    </tr>\n",
              "    <tr>\n",
              "      <th>75%</th>\n",
              "      <td>4.000000</td>\n",
              "      <td>2002.000000</td>\n",
              "    </tr>\n",
              "    <tr>\n",
              "      <th>max</th>\n",
              "      <td>5.000000</td>\n",
              "      <td>2019.000000</td>\n",
              "    </tr>\n",
              "  </tbody>\n",
              "</table>\n",
              "</div>"
            ],
            "text/plain": [
              "            Rating      Founded\n",
              "count  2253.000000  2253.000000\n",
              "mean      3.160630  1398.522858\n",
              "std       1.665228   901.929251\n",
              "min      -1.000000    -1.000000\n",
              "25%       3.100000    -1.000000\n",
              "50%       3.600000  1979.000000\n",
              "75%       4.000000  2002.000000\n",
              "max       5.000000  2019.000000"
            ]
          },
          "metadata": {
            "tags": []
          },
          "execution_count": 9
        }
      ]
    },
    {
      "cell_type": "code",
      "metadata": {
        "colab": {
          "base_uri": "https://localhost:8080/",
          "height": 467
        },
        "id": "Ud4OfqOjo9Zy",
        "outputId": "1a75f722-1c55-40c2-8268-74e8c9bf38d3"
      },
      "source": [
        "df.describe(include='all')"
      ],
      "execution_count": null,
      "outputs": [
        {
          "output_type": "execute_result",
          "data": {
            "text/html": [
              "<div>\n",
              "<style scoped>\n",
              "    .dataframe tbody tr th:only-of-type {\n",
              "        vertical-align: middle;\n",
              "    }\n",
              "\n",
              "    .dataframe tbody tr th {\n",
              "        vertical-align: top;\n",
              "    }\n",
              "\n",
              "    .dataframe thead th {\n",
              "        text-align: right;\n",
              "    }\n",
              "</style>\n",
              "<table border=\"1\" class=\"dataframe\">\n",
              "  <thead>\n",
              "    <tr style=\"text-align: right;\">\n",
              "      <th></th>\n",
              "      <th>Job Title</th>\n",
              "      <th>Salary Estimate</th>\n",
              "      <th>Job Description</th>\n",
              "      <th>Rating</th>\n",
              "      <th>Company Name</th>\n",
              "      <th>Location</th>\n",
              "      <th>Headquarters</th>\n",
              "      <th>Size</th>\n",
              "      <th>Founded</th>\n",
              "      <th>Type of ownership</th>\n",
              "      <th>Industry</th>\n",
              "      <th>Sector</th>\n",
              "      <th>Revenue</th>\n",
              "      <th>Competitors</th>\n",
              "      <th>Easy Apply</th>\n",
              "    </tr>\n",
              "  </thead>\n",
              "  <tbody>\n",
              "    <tr>\n",
              "      <th>count</th>\n",
              "      <td>2253</td>\n",
              "      <td>2253</td>\n",
              "      <td>2253</td>\n",
              "      <td>2253.000000</td>\n",
              "      <td>2252</td>\n",
              "      <td>2253</td>\n",
              "      <td>2253</td>\n",
              "      <td>2253</td>\n",
              "      <td>2253.000000</td>\n",
              "      <td>2253</td>\n",
              "      <td>2253</td>\n",
              "      <td>2253</td>\n",
              "      <td>2253</td>\n",
              "      <td>2253</td>\n",
              "      <td>2253</td>\n",
              "    </tr>\n",
              "    <tr>\n",
              "      <th>unique</th>\n",
              "      <td>1272</td>\n",
              "      <td>90</td>\n",
              "      <td>2253</td>\n",
              "      <td>NaN</td>\n",
              "      <td>1513</td>\n",
              "      <td>253</td>\n",
              "      <td>483</td>\n",
              "      <td>9</td>\n",
              "      <td>NaN</td>\n",
              "      <td>15</td>\n",
              "      <td>89</td>\n",
              "      <td>25</td>\n",
              "      <td>14</td>\n",
              "      <td>291</td>\n",
              "      <td>2</td>\n",
              "    </tr>\n",
              "    <tr>\n",
              "      <th>top</th>\n",
              "      <td>Data Analyst</td>\n",
              "      <td>$42K-$76K (Glassdoor est.)</td>\n",
              "      <td>Description\\n\\n\\nDiscover your opportunity wit...</td>\n",
              "      <td>NaN</td>\n",
              "      <td>Staffigo Technical Services, LLC\\n5.0</td>\n",
              "      <td>New York, NY</td>\n",
              "      <td>New York, NY</td>\n",
              "      <td>51 to 200 employees</td>\n",
              "      <td>NaN</td>\n",
              "      <td>Company - Private</td>\n",
              "      <td>-1</td>\n",
              "      <td>Information Technology</td>\n",
              "      <td>Unknown / Non-Applicable</td>\n",
              "      <td>-1</td>\n",
              "      <td>-1</td>\n",
              "    </tr>\n",
              "    <tr>\n",
              "      <th>freq</th>\n",
              "      <td>405</td>\n",
              "      <td>57</td>\n",
              "      <td>1</td>\n",
              "      <td>NaN</td>\n",
              "      <td>58</td>\n",
              "      <td>310</td>\n",
              "      <td>206</td>\n",
              "      <td>421</td>\n",
              "      <td>NaN</td>\n",
              "      <td>1273</td>\n",
              "      <td>353</td>\n",
              "      <td>570</td>\n",
              "      <td>615</td>\n",
              "      <td>1732</td>\n",
              "      <td>2173</td>\n",
              "    </tr>\n",
              "    <tr>\n",
              "      <th>mean</th>\n",
              "      <td>NaN</td>\n",
              "      <td>NaN</td>\n",
              "      <td>NaN</td>\n",
              "      <td>3.160630</td>\n",
              "      <td>NaN</td>\n",
              "      <td>NaN</td>\n",
              "      <td>NaN</td>\n",
              "      <td>NaN</td>\n",
              "      <td>1398.522858</td>\n",
              "      <td>NaN</td>\n",
              "      <td>NaN</td>\n",
              "      <td>NaN</td>\n",
              "      <td>NaN</td>\n",
              "      <td>NaN</td>\n",
              "      <td>NaN</td>\n",
              "    </tr>\n",
              "    <tr>\n",
              "      <th>std</th>\n",
              "      <td>NaN</td>\n",
              "      <td>NaN</td>\n",
              "      <td>NaN</td>\n",
              "      <td>1.665228</td>\n",
              "      <td>NaN</td>\n",
              "      <td>NaN</td>\n",
              "      <td>NaN</td>\n",
              "      <td>NaN</td>\n",
              "      <td>901.929251</td>\n",
              "      <td>NaN</td>\n",
              "      <td>NaN</td>\n",
              "      <td>NaN</td>\n",
              "      <td>NaN</td>\n",
              "      <td>NaN</td>\n",
              "      <td>NaN</td>\n",
              "    </tr>\n",
              "    <tr>\n",
              "      <th>min</th>\n",
              "      <td>NaN</td>\n",
              "      <td>NaN</td>\n",
              "      <td>NaN</td>\n",
              "      <td>-1.000000</td>\n",
              "      <td>NaN</td>\n",
              "      <td>NaN</td>\n",
              "      <td>NaN</td>\n",
              "      <td>NaN</td>\n",
              "      <td>-1.000000</td>\n",
              "      <td>NaN</td>\n",
              "      <td>NaN</td>\n",
              "      <td>NaN</td>\n",
              "      <td>NaN</td>\n",
              "      <td>NaN</td>\n",
              "      <td>NaN</td>\n",
              "    </tr>\n",
              "    <tr>\n",
              "      <th>25%</th>\n",
              "      <td>NaN</td>\n",
              "      <td>NaN</td>\n",
              "      <td>NaN</td>\n",
              "      <td>3.100000</td>\n",
              "      <td>NaN</td>\n",
              "      <td>NaN</td>\n",
              "      <td>NaN</td>\n",
              "      <td>NaN</td>\n",
              "      <td>-1.000000</td>\n",
              "      <td>NaN</td>\n",
              "      <td>NaN</td>\n",
              "      <td>NaN</td>\n",
              "      <td>NaN</td>\n",
              "      <td>NaN</td>\n",
              "      <td>NaN</td>\n",
              "    </tr>\n",
              "    <tr>\n",
              "      <th>50%</th>\n",
              "      <td>NaN</td>\n",
              "      <td>NaN</td>\n",
              "      <td>NaN</td>\n",
              "      <td>3.600000</td>\n",
              "      <td>NaN</td>\n",
              "      <td>NaN</td>\n",
              "      <td>NaN</td>\n",
              "      <td>NaN</td>\n",
              "      <td>1979.000000</td>\n",
              "      <td>NaN</td>\n",
              "      <td>NaN</td>\n",
              "      <td>NaN</td>\n",
              "      <td>NaN</td>\n",
              "      <td>NaN</td>\n",
              "      <td>NaN</td>\n",
              "    </tr>\n",
              "    <tr>\n",
              "      <th>75%</th>\n",
              "      <td>NaN</td>\n",
              "      <td>NaN</td>\n",
              "      <td>NaN</td>\n",
              "      <td>4.000000</td>\n",
              "      <td>NaN</td>\n",
              "      <td>NaN</td>\n",
              "      <td>NaN</td>\n",
              "      <td>NaN</td>\n",
              "      <td>2002.000000</td>\n",
              "      <td>NaN</td>\n",
              "      <td>NaN</td>\n",
              "      <td>NaN</td>\n",
              "      <td>NaN</td>\n",
              "      <td>NaN</td>\n",
              "      <td>NaN</td>\n",
              "    </tr>\n",
              "    <tr>\n",
              "      <th>max</th>\n",
              "      <td>NaN</td>\n",
              "      <td>NaN</td>\n",
              "      <td>NaN</td>\n",
              "      <td>5.000000</td>\n",
              "      <td>NaN</td>\n",
              "      <td>NaN</td>\n",
              "      <td>NaN</td>\n",
              "      <td>NaN</td>\n",
              "      <td>2019.000000</td>\n",
              "      <td>NaN</td>\n",
              "      <td>NaN</td>\n",
              "      <td>NaN</td>\n",
              "      <td>NaN</td>\n",
              "      <td>NaN</td>\n",
              "      <td>NaN</td>\n",
              "    </tr>\n",
              "  </tbody>\n",
              "</table>\n",
              "</div>"
            ],
            "text/plain": [
              "           Job Title             Salary Estimate                                    Job Description       Rating                           Company Name      Location  Headquarters                 Size      Founded  Type of ownership Industry                  Sector                   Revenue Competitors Easy Apply\n",
              "count           2253                        2253                                               2253  2253.000000                                   2252          2253          2253                 2253  2253.000000               2253     2253                    2253                      2253        2253       2253\n",
              "unique          1272                          90                                               2253          NaN                                   1513           253           483                    9          NaN                 15       89                      25                        14         291          2\n",
              "top     Data Analyst  $42K-$76K (Glassdoor est.)  Description\\n\\n\\nDiscover your opportunity wit...          NaN  Staffigo Technical Services, LLC\\n5.0  New York, NY  New York, NY  51 to 200 employees          NaN  Company - Private       -1  Information Technology  Unknown / Non-Applicable          -1         -1\n",
              "freq             405                          57                                                  1          NaN                                     58           310           206                  421          NaN               1273      353                     570                       615        1732       2173\n",
              "mean             NaN                         NaN                                                NaN     3.160630                                    NaN           NaN           NaN                  NaN  1398.522858                NaN      NaN                     NaN                       NaN         NaN        NaN\n",
              "std              NaN                         NaN                                                NaN     1.665228                                    NaN           NaN           NaN                  NaN   901.929251                NaN      NaN                     NaN                       NaN         NaN        NaN\n",
              "min              NaN                         NaN                                                NaN    -1.000000                                    NaN           NaN           NaN                  NaN    -1.000000                NaN      NaN                     NaN                       NaN         NaN        NaN\n",
              "25%              NaN                         NaN                                                NaN     3.100000                                    NaN           NaN           NaN                  NaN    -1.000000                NaN      NaN                     NaN                       NaN         NaN        NaN\n",
              "50%              NaN                         NaN                                                NaN     3.600000                                    NaN           NaN           NaN                  NaN  1979.000000                NaN      NaN                     NaN                       NaN         NaN        NaN\n",
              "75%              NaN                         NaN                                                NaN     4.000000                                    NaN           NaN           NaN                  NaN  2002.000000                NaN      NaN                     NaN                       NaN         NaN        NaN\n",
              "max              NaN                         NaN                                                NaN     5.000000                                    NaN           NaN           NaN                  NaN  2019.000000                NaN      NaN                     NaN                       NaN         NaN        NaN"
            ]
          },
          "metadata": {
            "tags": []
          },
          "execution_count": 10
        }
      ]
    },
    {
      "cell_type": "markdown",
      "metadata": {
        "id": "HJFPS7RUqXmh"
      },
      "source": [
        ""
      ]
    },
    {
      "cell_type": "code",
      "metadata": {
        "colab": {
          "base_uri": "https://localhost:8080/"
        },
        "id": "LzUFRvBZqsrC",
        "outputId": "b2eeed29-ddf2-469a-bed7-af24483bae44"
      },
      "source": [
        "df.isnull().sum()"
      ],
      "execution_count": null,
      "outputs": [
        {
          "output_type": "execute_result",
          "data": {
            "text/plain": [
              "Job Title            0\n",
              "Salary Estimate      0\n",
              "Job Description      0\n",
              "Rating               0\n",
              "Company Name         1\n",
              "Location             0\n",
              "Headquarters         0\n",
              "Size                 0\n",
              "Founded              0\n",
              "Type of ownership    0\n",
              "Industry             0\n",
              "Sector               0\n",
              "Revenue              0\n",
              "Competitors          0\n",
              "Easy Apply           0\n",
              "dtype: int64"
            ]
          },
          "metadata": {
            "tags": []
          },
          "execution_count": 11
        }
      ]
    },
    {
      "cell_type": "code",
      "metadata": {
        "colab": {
          "base_uri": "https://localhost:8080/"
        },
        "id": "pbt6c7RVrRHp",
        "outputId": "6f28b1fe-b006-425e-b756-0ef36bd89461"
      },
      "source": [
        "df.shape[0]"
      ],
      "execution_count": null,
      "outputs": [
        {
          "output_type": "execute_result",
          "data": {
            "text/plain": [
              "2253"
            ]
          },
          "metadata": {
            "tags": []
          },
          "execution_count": 12
        }
      ]
    },
    {
      "cell_type": "code",
      "metadata": {
        "colab": {
          "base_uri": "https://localhost:8080/",
          "height": 173
        },
        "id": "dAVbQAZCs6ei",
        "outputId": "50513f98-9e26-41f2-ea14-7e1184c31a79"
      },
      "source": [
        ""
      ],
      "execution_count": null,
      "outputs": [
        {
          "output_type": "error",
          "ename": "NameError",
          "evalue": "ignored",
          "traceback": [
            "\u001b[0;31m---------------------------------------------------------------------------\u001b[0m",
            "\u001b[0;31mNameError\u001b[0m                                 Traceback (most recent call last)",
            "\u001b[0;32m<ipython-input-13-a716ead20a5c>\u001b[0m in \u001b[0;36m<module>\u001b[0;34m()\u001b[0m\n\u001b[0;32m----> 1\u001b[0;31m \u001b[0mmiss_val_df\u001b[0m\u001b[0;34m[\u001b[0m\u001b[0mmiss_val_df\u001b[0m\u001b[0;34m[\u001b[0m\u001b[0;34m'missing_values'\u001b[0m\u001b[0;34m]\u001b[0m\u001b[0;34m!=\u001b[0m\u001b[0;36m0\u001b[0m\u001b[0;34m]\u001b[0m\u001b[0;34m\u001b[0m\u001b[0;34m\u001b[0m\u001b[0m\n\u001b[0m",
            "\u001b[0;31mNameError\u001b[0m: name 'miss_val_df' is not defined"
          ]
        }
      ]
    },
    {
      "cell_type": "code",
      "metadata": {
        "id": "LIpc5xAYo83w"
      },
      "source": [
        "def mis_val(df):\r\n",
        "  miss_val = df.isnull().sum()\r\n",
        "  miss_val_per = miss_val / len(df) *100\r\n",
        "  miss_val_df = pd.concat([miss_val, miss_val_per], axis = 1)\r\n",
        "  miss_val_df = miss_val_df.rename(columns = {0 : 'missing_values', 1 : '%_of_total_values'})\r\n",
        "\r\n",
        "  miss_val_df=miss_val_df[miss_val_df['missing_values']!=0]\r\n",
        "  miss_val_df = miss_val_df.sort_values('_%of_total_values', ascending=False)\r\n",
        "  return miss_val_df"
      ],
      "execution_count": null,
      "outputs": []
    },
    {
      "cell_type": "code",
      "metadata": {
        "colab": {
          "base_uri": "https://localhost:8080/",
          "height": 78
        },
        "id": "0l75XhXcq7Br",
        "outputId": "1aacf212-f836-4df7-c465-44cd5ef41be6"
      },
      "source": [
        "miss_val(df)"
      ],
      "execution_count": null,
      "outputs": [
        {
          "output_type": "execute_result",
          "data": {
            "text/html": [
              "<div>\n",
              "<style scoped>\n",
              "    .dataframe tbody tr th:only-of-type {\n",
              "        vertical-align: middle;\n",
              "    }\n",
              "\n",
              "    .dataframe tbody tr th {\n",
              "        vertical-align: top;\n",
              "    }\n",
              "\n",
              "    .dataframe thead th {\n",
              "        text-align: right;\n",
              "    }\n",
              "</style>\n",
              "<table border=\"1\" class=\"dataframe\">\n",
              "  <thead>\n",
              "    <tr style=\"text-align: right;\">\n",
              "      <th></th>\n",
              "      <th>missing_values</th>\n",
              "      <th>%_of_total_values</th>\n",
              "    </tr>\n",
              "  </thead>\n",
              "  <tbody>\n",
              "    <tr>\n",
              "      <th>Company Name</th>\n",
              "      <td>1</td>\n",
              "      <td>0.044385</td>\n",
              "    </tr>\n",
              "  </tbody>\n",
              "</table>\n",
              "</div>"
            ],
            "text/plain": [
              "              missing_values  %_of_total_values\n",
              "Company Name               1           0.044385"
            ]
          },
          "metadata": {
            "tags": []
          },
          "execution_count": 24
        }
      ]
    },
    {
      "cell_type": "code",
      "metadata": {
        "colab": {
          "base_uri": "https://localhost:8080/",
          "height": 388
        },
        "id": "vXDb6SEfuC4Z",
        "outputId": "72264941-9d4d-492e-98ae-6495f7d4198f"
      },
      "source": [
        "df['Job Title']= df['Job Title'].str.split(',',1).str[0]\r\n",
        "df.head()"
      ],
      "execution_count": null,
      "outputs": [
        {
          "output_type": "execute_result",
          "data": {
            "text/html": [
              "<div>\n",
              "<style scoped>\n",
              "    .dataframe tbody tr th:only-of-type {\n",
              "        vertical-align: middle;\n",
              "    }\n",
              "\n",
              "    .dataframe tbody tr th {\n",
              "        vertical-align: top;\n",
              "    }\n",
              "\n",
              "    .dataframe thead th {\n",
              "        text-align: right;\n",
              "    }\n",
              "</style>\n",
              "<table border=\"1\" class=\"dataframe\">\n",
              "  <thead>\n",
              "    <tr style=\"text-align: right;\">\n",
              "      <th></th>\n",
              "      <th>Job Title</th>\n",
              "      <th>Salary Estimate</th>\n",
              "      <th>Job Description</th>\n",
              "      <th>Rating</th>\n",
              "      <th>Company Name</th>\n",
              "      <th>Location</th>\n",
              "      <th>Headquarters</th>\n",
              "      <th>Size</th>\n",
              "      <th>Founded</th>\n",
              "      <th>Type of ownership</th>\n",
              "      <th>Industry</th>\n",
              "      <th>Sector</th>\n",
              "      <th>Revenue</th>\n",
              "      <th>Competitors</th>\n",
              "      <th>Easy Apply</th>\n",
              "    </tr>\n",
              "  </thead>\n",
              "  <tbody>\n",
              "    <tr>\n",
              "      <th>0</th>\n",
              "      <td>Data Analyst</td>\n",
              "      <td>$37K-$66K (Glassdoor est.)</td>\n",
              "      <td>Are you eager to roll up your sleeves and harn...</td>\n",
              "      <td>3.2</td>\n",
              "      <td>Vera Institute of Justice\\n3.2</td>\n",
              "      <td>New York, NY</td>\n",
              "      <td>New York, NY</td>\n",
              "      <td>201 to 500 employees</td>\n",
              "      <td>1961</td>\n",
              "      <td>Nonprofit Organization</td>\n",
              "      <td>Social Assistance</td>\n",
              "      <td>Non-Profit</td>\n",
              "      <td>$100 to $500 million (USD)</td>\n",
              "      <td>-1</td>\n",
              "      <td>True</td>\n",
              "    </tr>\n",
              "    <tr>\n",
              "      <th>1</th>\n",
              "      <td>Quality Data Analyst</td>\n",
              "      <td>$37K-$66K (Glassdoor est.)</td>\n",
              "      <td>Overview\\n\\nProvides analytical and technical ...</td>\n",
              "      <td>3.8</td>\n",
              "      <td>Visiting Nurse Service of New York\\n3.8</td>\n",
              "      <td>New York, NY</td>\n",
              "      <td>New York, NY</td>\n",
              "      <td>10000+ employees</td>\n",
              "      <td>1893</td>\n",
              "      <td>Nonprofit Organization</td>\n",
              "      <td>Health Care Services &amp; Hospitals</td>\n",
              "      <td>Health Care</td>\n",
              "      <td>$2 to $5 billion (USD)</td>\n",
              "      <td>-1</td>\n",
              "      <td>-1</td>\n",
              "    </tr>\n",
              "    <tr>\n",
              "      <th>2</th>\n",
              "      <td>Senior Data Analyst</td>\n",
              "      <td>$37K-$66K (Glassdoor est.)</td>\n",
              "      <td>We’re looking for a Senior Data Analyst who ha...</td>\n",
              "      <td>3.4</td>\n",
              "      <td>Squarespace\\n3.4</td>\n",
              "      <td>New York, NY</td>\n",
              "      <td>New York, NY</td>\n",
              "      <td>1001 to 5000 employees</td>\n",
              "      <td>2003</td>\n",
              "      <td>Company - Private</td>\n",
              "      <td>Internet</td>\n",
              "      <td>Information Technology</td>\n",
              "      <td>Unknown / Non-Applicable</td>\n",
              "      <td>GoDaddy</td>\n",
              "      <td>-1</td>\n",
              "    </tr>\n",
              "    <tr>\n",
              "      <th>3</th>\n",
              "      <td>Data Analyst</td>\n",
              "      <td>$37K-$66K (Glassdoor est.)</td>\n",
              "      <td>Requisition NumberRR-0001939\\nRemote:Yes\\nWe c...</td>\n",
              "      <td>4.1</td>\n",
              "      <td>Celerity\\n4.1</td>\n",
              "      <td>New York, NY</td>\n",
              "      <td>McLean, VA</td>\n",
              "      <td>201 to 500 employees</td>\n",
              "      <td>2002</td>\n",
              "      <td>Subsidiary or Business Segment</td>\n",
              "      <td>IT Services</td>\n",
              "      <td>Information Technology</td>\n",
              "      <td>$50 to $100 million (USD)</td>\n",
              "      <td>-1</td>\n",
              "      <td>-1</td>\n",
              "    </tr>\n",
              "    <tr>\n",
              "      <th>4</th>\n",
              "      <td>Reporting Data Analyst</td>\n",
              "      <td>$37K-$66K (Glassdoor est.)</td>\n",
              "      <td>ABOUT FANDUEL GROUP\\n\\nFanDuel Group is a worl...</td>\n",
              "      <td>3.9</td>\n",
              "      <td>FanDuel\\n3.9</td>\n",
              "      <td>New York, NY</td>\n",
              "      <td>New York, NY</td>\n",
              "      <td>501 to 1000 employees</td>\n",
              "      <td>2009</td>\n",
              "      <td>Company - Private</td>\n",
              "      <td>Sports &amp; Recreation</td>\n",
              "      <td>Arts, Entertainment &amp; Recreation</td>\n",
              "      <td>$100 to $500 million (USD)</td>\n",
              "      <td>DraftKings</td>\n",
              "      <td>True</td>\n",
              "    </tr>\n",
              "  </tbody>\n",
              "</table>\n",
              "</div>"
            ],
            "text/plain": [
              "                Job Title             Salary Estimate                                    Job Description  Rating                             Company Name      Location  Headquarters                    Size  Founded               Type of ownership                          Industry                            Sector                     Revenue Competitors Easy Apply\n",
              "0            Data Analyst  $37K-$66K (Glassdoor est.)  Are you eager to roll up your sleeves and harn...     3.2           Vera Institute of Justice\\n3.2  New York, NY  New York, NY    201 to 500 employees     1961          Nonprofit Organization                 Social Assistance                        Non-Profit  $100 to $500 million (USD)          -1       True\n",
              "1    Quality Data Analyst  $37K-$66K (Glassdoor est.)  Overview\\n\\nProvides analytical and technical ...     3.8  Visiting Nurse Service of New York\\n3.8  New York, NY  New York, NY        10000+ employees     1893          Nonprofit Organization  Health Care Services & Hospitals                       Health Care      $2 to $5 billion (USD)          -1         -1\n",
              "2     Senior Data Analyst  $37K-$66K (Glassdoor est.)  We’re looking for a Senior Data Analyst who ha...     3.4                         Squarespace\\n3.4  New York, NY  New York, NY  1001 to 5000 employees     2003               Company - Private                          Internet            Information Technology    Unknown / Non-Applicable     GoDaddy         -1\n",
              "3            Data Analyst  $37K-$66K (Glassdoor est.)  Requisition NumberRR-0001939\\nRemote:Yes\\nWe c...     4.1                            Celerity\\n4.1  New York, NY    McLean, VA    201 to 500 employees     2002  Subsidiary or Business Segment                       IT Services            Information Technology   $50 to $100 million (USD)          -1         -1\n",
              "4  Reporting Data Analyst  $37K-$66K (Glassdoor est.)  ABOUT FANDUEL GROUP\\n\\nFanDuel Group is a worl...     3.9                             FanDuel\\n3.9  New York, NY  New York, NY   501 to 1000 employees     2009               Company - Private               Sports & Recreation  Arts, Entertainment & Recreation  $100 to $500 million (USD)  DraftKings       True"
            ]
          },
          "metadata": {
            "tags": []
          },
          "execution_count": 25
        }
      ]
    },
    {
      "cell_type": "code",
      "metadata": {
        "colab": {
          "base_uri": "https://localhost:8080/"
        },
        "id": "jEwEmJgwvO_d",
        "outputId": "5128d121-8347-4c44-e629-de82ad3f1d85"
      },
      "source": [
        "df['Industry'].value_counts().head(10)"
      ],
      "execution_count": null,
      "outputs": [
        {
          "output_type": "execute_result",
          "data": {
            "text/plain": [
              "-1                                         353\n",
              "IT Services                                325\n",
              "Staffing & Outsourcing                     323\n",
              "Health Care Services & Hospitals           151\n",
              "Consulting                                 111\n",
              "Computer Hardware & Software               111\n",
              "Investment Banking & Asset Management       78\n",
              "Enterprise Software & Network Solutions     69\n",
              "Internet                                    65\n",
              "Banks & Credit Unions                       51\n",
              "Name: Industry, dtype: int64"
            ]
          },
          "metadata": {
            "tags": []
          },
          "execution_count": 26
        }
      ]
    },
    {
      "cell_type": "code",
      "metadata": {
        "colab": {
          "base_uri": "https://localhost:8080/"
        },
        "id": "u7YclA4GvhJZ",
        "outputId": "e2d8785f-2eb5-47f6-c0f9-62dc20099b89"
      },
      "source": [
        "df['Sector'].value_counts().head(10)"
      ],
      "execution_count": null,
      "outputs": [
        {
          "output_type": "execute_result",
          "data": {
            "text/plain": [
              "Information Technology    570\n",
              "Business Services         524\n",
              "-1                        353\n",
              "Finance                   169\n",
              "Health Care               151\n",
              "Education                  52\n",
              "Insurance                  51\n",
              "Accounting & Legal         43\n",
              "Media                      42\n",
              "Manufacturing              40\n",
              "Name: Sector, dtype: int64"
            ]
          },
          "metadata": {
            "tags": []
          },
          "execution_count": 27
        }
      ]
    },
    {
      "cell_type": "code",
      "metadata": {
        "colab": {
          "base_uri": "https://localhost:8080/"
        },
        "id": "FfFKRY17voco",
        "outputId": "790d0755-7220-42b7-c008-fed3a530c923"
      },
      "source": [
        "df['Competitors'].value_counts().head(10)"
      ],
      "execution_count": null,
      "outputs": [
        {
          "output_type": "execute_result",
          "data": {
            "text/plain": [
              "-1                                                      1732\n",
              "Adecco, Manpower                                          14\n",
              "Robert Half, Insight Global                               14\n",
              "Google, Microsoft, Samsung Electronics                    10\n",
              "Artech Information Systems, Mindlance, Tech Mahindra      10\n",
              "TEKsystems, Insight Global, Accenture                     10\n",
              "Adecco, Kforce                                             9\n",
              "State Street, Northern Trust, BlackRock                    9\n",
              "Accenture, CGI, Sopra Steria                               7\n",
              "Kforce, Insight Global, Volt Consulting Group              7\n",
              "Name: Competitors, dtype: int64"
            ]
          },
          "metadata": {
            "tags": []
          },
          "execution_count": 28
        }
      ]
    },
    {
      "cell_type": "code",
      "metadata": {
        "colab": {
          "base_uri": "https://localhost:8080/"
        },
        "id": "usJdjFOQvp19",
        "outputId": "5a6f84d2-c043-4a75-a472-c45c1d12ba2a"
      },
      "source": [
        "df['Easy Apply'].value_counts().head(10)"
      ],
      "execution_count": null,
      "outputs": [
        {
          "output_type": "execute_result",
          "data": {
            "text/plain": [
              "-1      2173\n",
              "True      80\n",
              "Name: Easy Apply, dtype: int64"
            ]
          },
          "metadata": {
            "tags": []
          },
          "execution_count": 29
        }
      ]
    },
    {
      "cell_type": "code",
      "metadata": {
        "colab": {
          "base_uri": "https://localhost:8080/"
        },
        "id": "rkMQJbl0vrXD",
        "outputId": "104764c7-4d34-4253-d404-cadc027f9071"
      },
      "source": [
        "df['Revenue'].value_counts().head(10)"
      ],
      "execution_count": null,
      "outputs": [
        {
          "output_type": "execute_result",
          "data": {
            "text/plain": [
              "Unknown / Non-Applicable      615\n",
              "$100 to $500 million (USD)    218\n",
              "$50 to $100 million (USD)     199\n",
              "$10+ billion (USD)            189\n",
              "-1                            163\n",
              "$10 to $25 million (USD)      132\n",
              "$2 to $5 billion (USD)        129\n",
              "$1 to $5 million (USD)        111\n",
              "$25 to $50 million (USD)      110\n",
              "Less than $1 million (USD)     93\n",
              "Name: Revenue, dtype: int64"
            ]
          },
          "metadata": {
            "tags": []
          },
          "execution_count": 30
        }
      ]
    },
    {
      "cell_type": "code",
      "metadata": {
        "id": "oqM5dRDcvsQN"
      },
      "source": [
        "num_lst=[-1,-1.0,'-1']\r\n",
        "for num in num_lst:\r\n",
        "    df=df.replace(num,np.nan)"
      ],
      "execution_count": null,
      "outputs": []
    },
    {
      "cell_type": "code",
      "metadata": {
        "colab": {
          "base_uri": "https://localhost:8080/"
        },
        "id": "04mBYnOIwBl1",
        "outputId": "85d14127-bb63-4c6b-f263-852b2d97bbb8"
      },
      "source": [
        "df['Salary Estimate'].value_counts().head(10)"
      ],
      "execution_count": null,
      "outputs": [
        {
          "output_type": "execute_result",
          "data": {
            "text/plain": [
              "$42K-$76K (Glassdoor est.)     57\n",
              "$41K-$78K (Glassdoor est.)     57\n",
              "$50K-$86K (Glassdoor est.)     41\n",
              "$35K-$67K (Glassdoor est.)     33\n",
              "$60K-$124K (Glassdoor est.)    31\n",
              "$43K-$76K (Glassdoor est.)     31\n",
              "$58K-$93K (Glassdoor est.)     31\n",
              "$30K-$53K (Glassdoor est.)     30\n",
              "$97K-$129K (Glassdoor est.)    30\n",
              "$51K-$88K (Glassdoor est.)     30\n",
              "Name: Salary Estimate, dtype: int64"
            ]
          },
          "metadata": {
            "tags": []
          },
          "execution_count": 32
        }
      ]
    },
    {
      "cell_type": "code",
      "metadata": {
        "id": "U9g_08XtwD3Y"
      },
      "source": [
        "df['Salary Estimate'],_=df['Salary Estimate'].str.split('(', 1).str\r\n",
        "df['salary_min'],df['salary_max']=df['Salary Estimate'].str.split('-').str\r\n",
        "df['salary_max']=df['salary_max'].str.strip(' ').str.lstrip('$').str.rstrip('K').fillna(0).astype('int')\r\n",
        "df['salary_min']=df['salary_min'].str.strip(' ').str.lstrip('$').str.rstrip('K').fillna(0).astype('int')\r\n",
        "df.drop('Salary Estimate',axis=1,inplace=True)"
      ],
      "execution_count": null,
      "outputs": []
    },
    {
      "cell_type": "code",
      "metadata": {
        "colab": {
          "base_uri": "https://localhost:8080/"
        },
        "id": "xCDyDYmmxHZQ",
        "outputId": "5af786be-eda6-4693-8971-4fab06748aa9"
      },
      "source": [
        "df['Size'].value_counts()"
      ],
      "execution_count": null,
      "outputs": [
        {
          "output_type": "execute_result",
          "data": {
            "text/plain": [
              "51 to 200 employees        421\n",
              "10000+ employees           375\n",
              "1001 to 5000 employees     348\n",
              "1 to 50 employees          347\n",
              "201 to 500 employees       249\n",
              "501 to 1000 employees      211\n",
              "5001 to 10000 employees     97\n",
              "Unknown                     42\n",
              "Name: Size, dtype: int64"
            ]
          },
          "metadata": {
            "tags": []
          },
          "execution_count": 34
        }
      ]
    },
    {
      "cell_type": "code",
      "metadata": {
        "id": "SZA33FVfxJtP"
      },
      "source": [
        "df['Size'],_=df['Size'].str.split(\" e\").str"
      ],
      "execution_count": null,
      "outputs": []
    },
    {
      "cell_type": "code",
      "metadata": {
        "colab": {
          "base_uri": "https://localhost:8080/"
        },
        "id": "S0l4OE32xP-r",
        "outputId": "5d67cb74-a933-46e8-8f21-e5913fadec0a"
      },
      "source": [
        "df['Company Name'].value_counts().head(5)"
      ],
      "execution_count": null,
      "outputs": [
        {
          "output_type": "execute_result",
          "data": {
            "text/plain": [
              "Staffigo Technical Services, LLC\\n5.0    58\n",
              "Diverse Lynx\\n3.9                        22\n",
              "Kforce\\n4.1                              19\n",
              "Lorven Technologies Inc\\n4.0             19\n",
              "Robert Half\\n3.5                         14\n",
              "Name: Company Name, dtype: int64"
            ]
          },
          "metadata": {
            "tags": []
          },
          "execution_count": 36
        }
      ]
    },
    {
      "cell_type": "code",
      "metadata": {
        "id": "z4hmyzHyxfbm"
      },
      "source": [
        "df['Company Name'],_=df['Company Name'].str.split('\\n', 1).str"
      ],
      "execution_count": null,
      "outputs": []
    },
    {
      "cell_type": "code",
      "metadata": {
        "colab": {
          "base_uri": "https://localhost:8080/",
          "height": 477
        },
        "id": "Ch6JBfABxn3f",
        "outputId": "a1c70147-bf28-473c-d0da-62ba0caed219"
      },
      "source": [
        "df['City'],df['State']=df['Location'].str.split(', ', 1).str\r\n",
        "df['State']=df['State'].replace(\"Arapahoe, CO\",\"CO\")\r\n",
        "df.drop('Location',axis=1,inplace=True)\r\n",
        "df.head()"
      ],
      "execution_count": null,
      "outputs": [
        {
          "output_type": "execute_result",
          "data": {
            "text/html": [
              "<div>\n",
              "<style scoped>\n",
              "    .dataframe tbody tr th:only-of-type {\n",
              "        vertical-align: middle;\n",
              "    }\n",
              "\n",
              "    .dataframe tbody tr th {\n",
              "        vertical-align: top;\n",
              "    }\n",
              "\n",
              "    .dataframe thead th {\n",
              "        text-align: right;\n",
              "    }\n",
              "</style>\n",
              "<table border=\"1\" class=\"dataframe\">\n",
              "  <thead>\n",
              "    <tr style=\"text-align: right;\">\n",
              "      <th></th>\n",
              "      <th>Job Title</th>\n",
              "      <th>Job Description</th>\n",
              "      <th>Rating</th>\n",
              "      <th>Company Name</th>\n",
              "      <th>Headquarters</th>\n",
              "      <th>Size</th>\n",
              "      <th>Founded</th>\n",
              "      <th>Type of ownership</th>\n",
              "      <th>Industry</th>\n",
              "      <th>Sector</th>\n",
              "      <th>Revenue</th>\n",
              "      <th>Competitors</th>\n",
              "      <th>Easy Apply</th>\n",
              "      <th>salary_min</th>\n",
              "      <th>salary_max</th>\n",
              "      <th>City</th>\n",
              "      <th>State</th>\n",
              "    </tr>\n",
              "  </thead>\n",
              "  <tbody>\n",
              "    <tr>\n",
              "      <th>0</th>\n",
              "      <td>Data Analyst</td>\n",
              "      <td>Are you eager to roll up your sleeves and harn...</td>\n",
              "      <td>3.2</td>\n",
              "      <td>Vera Institute of Justice</td>\n",
              "      <td>New York, NY</td>\n",
              "      <td>201 to 500</td>\n",
              "      <td>1961.0</td>\n",
              "      <td>Nonprofit Organization</td>\n",
              "      <td>Social Assistance</td>\n",
              "      <td>Non-Profit</td>\n",
              "      <td>$100 to $500 million (USD)</td>\n",
              "      <td>NaN</td>\n",
              "      <td>True</td>\n",
              "      <td>37</td>\n",
              "      <td>66</td>\n",
              "      <td>New York</td>\n",
              "      <td>NY</td>\n",
              "    </tr>\n",
              "    <tr>\n",
              "      <th>1</th>\n",
              "      <td>Quality Data Analyst</td>\n",
              "      <td>Overview\\n\\nProvides analytical and technical ...</td>\n",
              "      <td>3.8</td>\n",
              "      <td>Visiting Nurse Service of New York</td>\n",
              "      <td>New York, NY</td>\n",
              "      <td>10000+</td>\n",
              "      <td>1893.0</td>\n",
              "      <td>Nonprofit Organization</td>\n",
              "      <td>Health Care Services &amp; Hospitals</td>\n",
              "      <td>Health Care</td>\n",
              "      <td>$2 to $5 billion (USD)</td>\n",
              "      <td>NaN</td>\n",
              "      <td>NaN</td>\n",
              "      <td>37</td>\n",
              "      <td>66</td>\n",
              "      <td>New York</td>\n",
              "      <td>NY</td>\n",
              "    </tr>\n",
              "    <tr>\n",
              "      <th>2</th>\n",
              "      <td>Senior Data Analyst</td>\n",
              "      <td>We’re looking for a Senior Data Analyst who ha...</td>\n",
              "      <td>3.4</td>\n",
              "      <td>Squarespace</td>\n",
              "      <td>New York, NY</td>\n",
              "      <td>1001 to 5000</td>\n",
              "      <td>2003.0</td>\n",
              "      <td>Company - Private</td>\n",
              "      <td>Internet</td>\n",
              "      <td>Information Technology</td>\n",
              "      <td>Unknown / Non-Applicable</td>\n",
              "      <td>GoDaddy</td>\n",
              "      <td>NaN</td>\n",
              "      <td>37</td>\n",
              "      <td>66</td>\n",
              "      <td>New York</td>\n",
              "      <td>NY</td>\n",
              "    </tr>\n",
              "    <tr>\n",
              "      <th>3</th>\n",
              "      <td>Data Analyst</td>\n",
              "      <td>Requisition NumberRR-0001939\\nRemote:Yes\\nWe c...</td>\n",
              "      <td>4.1</td>\n",
              "      <td>Celerity</td>\n",
              "      <td>McLean, VA</td>\n",
              "      <td>201 to 500</td>\n",
              "      <td>2002.0</td>\n",
              "      <td>Subsidiary or Business Segment</td>\n",
              "      <td>IT Services</td>\n",
              "      <td>Information Technology</td>\n",
              "      <td>$50 to $100 million (USD)</td>\n",
              "      <td>NaN</td>\n",
              "      <td>NaN</td>\n",
              "      <td>37</td>\n",
              "      <td>66</td>\n",
              "      <td>New York</td>\n",
              "      <td>NY</td>\n",
              "    </tr>\n",
              "    <tr>\n",
              "      <th>4</th>\n",
              "      <td>Reporting Data Analyst</td>\n",
              "      <td>ABOUT FANDUEL GROUP\\n\\nFanDuel Group is a worl...</td>\n",
              "      <td>3.9</td>\n",
              "      <td>FanDuel</td>\n",
              "      <td>New York, NY</td>\n",
              "      <td>501 to 1000</td>\n",
              "      <td>2009.0</td>\n",
              "      <td>Company - Private</td>\n",
              "      <td>Sports &amp; Recreation</td>\n",
              "      <td>Arts, Entertainment &amp; Recreation</td>\n",
              "      <td>$100 to $500 million (USD)</td>\n",
              "      <td>DraftKings</td>\n",
              "      <td>True</td>\n",
              "      <td>37</td>\n",
              "      <td>66</td>\n",
              "      <td>New York</td>\n",
              "      <td>NY</td>\n",
              "    </tr>\n",
              "  </tbody>\n",
              "</table>\n",
              "</div>"
            ],
            "text/plain": [
              "                Job Title                                    Job Description  Rating                        Company Name  Headquarters          Size  Founded               Type of ownership                          Industry                            Sector                     Revenue Competitors Easy Apply  salary_min  salary_max      City State\n",
              "0            Data Analyst  Are you eager to roll up your sleeves and harn...     3.2           Vera Institute of Justice  New York, NY    201 to 500   1961.0          Nonprofit Organization                 Social Assistance                        Non-Profit  $100 to $500 million (USD)         NaN       True          37          66  New York    NY\n",
              "1    Quality Data Analyst  Overview\\n\\nProvides analytical and technical ...     3.8  Visiting Nurse Service of New York  New York, NY        10000+   1893.0          Nonprofit Organization  Health Care Services & Hospitals                       Health Care      $2 to $5 billion (USD)         NaN        NaN          37          66  New York    NY\n",
              "2     Senior Data Analyst  We’re looking for a Senior Data Analyst who ha...     3.4                         Squarespace  New York, NY  1001 to 5000   2003.0               Company - Private                          Internet            Information Technology    Unknown / Non-Applicable     GoDaddy        NaN          37          66  New York    NY\n",
              "3            Data Analyst  Requisition NumberRR-0001939\\nRemote:Yes\\nWe c...     4.1                            Celerity    McLean, VA    201 to 500   2002.0  Subsidiary or Business Segment                       IT Services            Information Technology   $50 to $100 million (USD)         NaN        NaN          37          66  New York    NY\n",
              "4  Reporting Data Analyst  ABOUT FANDUEL GROUP\\n\\nFanDuel Group is a worl...     3.9                             FanDuel  New York, NY   501 to 1000   2009.0               Company - Private               Sports & Recreation  Arts, Entertainment & Recreation  $100 to $500 million (USD)  DraftKings       True          37          66  New York    NY"
            ]
          },
          "metadata": {
            "tags": []
          },
          "execution_count": 38
        }
      ]
    },
    {
      "cell_type": "code",
      "metadata": {
        "id": "M65hsyKNxwlX"
      },
      "source": [
        ""
      ],
      "execution_count": null,
      "outputs": []
    },
    {
      "cell_type": "code",
      "metadata": {
        "id": "9tUt8lCax-E-"
      },
      "source": [
        "df['Size'].fillna('Unknown',inplace=True)\r\n",
        "\r\n",
        "df['Founded']=df['Founded'].fillna(\"0\").astype(int)\r\n",
        "\r\n",
        "df['Type of ownership'].fillna('Unknown',inplace=True)\r\n",
        "\r\n",
        "df['Sector'].fillna('Unknown',inplace=True)\r\n",
        "\r\n",
        "df['Easy Apply']=df['Easy Apply'].fillna(\"False\").astype(\"bool\")"
      ],
      "execution_count": null,
      "outputs": []
    },
    {
      "cell_type": "code",
      "metadata": {
        "id": "bHj1OIWYx-CC"
      },
      "source": [
        ""
      ],
      "execution_count": null,
      "outputs": []
    },
    {
      "cell_type": "code",
      "metadata": {
        "id": "CCzYOfDMx9_k"
      },
      "source": [
        "def filter_revenue(x):\r\n",
        "    revenue=0\r\n",
        "    if(x== 'Unknown / Non-Applicable' or type(x)==float):\r\n",
        "        revenue=0\r\n",
        "    #값이 없거나 float타입은 지운다\r\n",
        "\r\n",
        "    elif(('million' in x) and ('billion' not in x)):\r\n",
        "        maxRev = x.replace('(USD)','').replace(\"million\",'').replace('$','').split('to')\r\n",
        "        \r\n",
        "        if('Less than' in maxRev[0]):\r\n",
        "            revenue = float(maxRev[0].replace('Less than','').strip())\r\n",
        "       \r\n",
        "        else:\r\n",
        "            if(len(maxRev)==2):\r\n",
        "                revenue = float(maxRev[1])\r\n",
        "            elif(len(maxRev)<2):\r\n",
        "                revenue = float(maxRev[0])\r\n",
        "    \r\n",
        "\r\n",
        "    elif(('billion'in x)):\r\n",
        "        maxRev = x.replace('(USD)','').replace(\"billion\",'').replace('$','').split('to')\r\n",
        "        if('+' in maxRev[0]):\r\n",
        "            revenue = float(maxRev[0].replace('+','').strip())*1000\r\n",
        "        else:\r\n",
        "            if(len(maxRev)==2):\r\n",
        "                revenue = float(maxRev[1])*1000\r\n",
        "            elif(len(maxRev)<2):\r\n",
        "                revenue = float(maxRev[0])*1000\r\n",
        "    return revenue"
      ],
      "execution_count": null,
      "outputs": []
    },
    {
      "cell_type": "code",
      "metadata": {
        "colab": {
          "base_uri": "https://localhost:8080/",
          "height": 477
        },
        "id": "_d4j-Qa6x98R",
        "outputId": "c2de2636-f72b-4da6-a899-5570b99f9736"
      },
      "source": [
        "df['Max_revenue']=df['Revenue'].apply(lambda x: filter_revenue(x))\r\n",
        "df.head()"
      ],
      "execution_count": null,
      "outputs": [
        {
          "output_type": "execute_result",
          "data": {
            "text/html": [
              "<div>\n",
              "<style scoped>\n",
              "    .dataframe tbody tr th:only-of-type {\n",
              "        vertical-align: middle;\n",
              "    }\n",
              "\n",
              "    .dataframe tbody tr th {\n",
              "        vertical-align: top;\n",
              "    }\n",
              "\n",
              "    .dataframe thead th {\n",
              "        text-align: right;\n",
              "    }\n",
              "</style>\n",
              "<table border=\"1\" class=\"dataframe\">\n",
              "  <thead>\n",
              "    <tr style=\"text-align: right;\">\n",
              "      <th></th>\n",
              "      <th>Job Title</th>\n",
              "      <th>Job Description</th>\n",
              "      <th>Rating</th>\n",
              "      <th>Company Name</th>\n",
              "      <th>Headquarters</th>\n",
              "      <th>Size</th>\n",
              "      <th>Founded</th>\n",
              "      <th>Type of ownership</th>\n",
              "      <th>Industry</th>\n",
              "      <th>Sector</th>\n",
              "      <th>Revenue</th>\n",
              "      <th>Competitors</th>\n",
              "      <th>Easy Apply</th>\n",
              "      <th>salary_min</th>\n",
              "      <th>salary_max</th>\n",
              "      <th>City</th>\n",
              "      <th>State</th>\n",
              "      <th>Max_revenue</th>\n",
              "    </tr>\n",
              "  </thead>\n",
              "  <tbody>\n",
              "    <tr>\n",
              "      <th>0</th>\n",
              "      <td>Data Analyst</td>\n",
              "      <td>Are you eager to roll up your sleeves and harn...</td>\n",
              "      <td>3.2</td>\n",
              "      <td>Vera Institute of Justice</td>\n",
              "      <td>New York, NY</td>\n",
              "      <td>201 to 500</td>\n",
              "      <td>1961</td>\n",
              "      <td>Nonprofit Organization</td>\n",
              "      <td>Social Assistance</td>\n",
              "      <td>Non-Profit</td>\n",
              "      <td>$100 to $500 million (USD)</td>\n",
              "      <td>NaN</td>\n",
              "      <td>True</td>\n",
              "      <td>37</td>\n",
              "      <td>66</td>\n",
              "      <td>New York</td>\n",
              "      <td>NY</td>\n",
              "      <td>500.0</td>\n",
              "    </tr>\n",
              "    <tr>\n",
              "      <th>1</th>\n",
              "      <td>Quality Data Analyst</td>\n",
              "      <td>Overview\\n\\nProvides analytical and technical ...</td>\n",
              "      <td>3.8</td>\n",
              "      <td>Visiting Nurse Service of New York</td>\n",
              "      <td>New York, NY</td>\n",
              "      <td>10000+</td>\n",
              "      <td>1893</td>\n",
              "      <td>Nonprofit Organization</td>\n",
              "      <td>Health Care Services &amp; Hospitals</td>\n",
              "      <td>Health Care</td>\n",
              "      <td>$2 to $5 billion (USD)</td>\n",
              "      <td>NaN</td>\n",
              "      <td>True</td>\n",
              "      <td>37</td>\n",
              "      <td>66</td>\n",
              "      <td>New York</td>\n",
              "      <td>NY</td>\n",
              "      <td>5000.0</td>\n",
              "    </tr>\n",
              "    <tr>\n",
              "      <th>2</th>\n",
              "      <td>Senior Data Analyst</td>\n",
              "      <td>We’re looking for a Senior Data Analyst who ha...</td>\n",
              "      <td>3.4</td>\n",
              "      <td>Squarespace</td>\n",
              "      <td>New York, NY</td>\n",
              "      <td>1001 to 5000</td>\n",
              "      <td>2003</td>\n",
              "      <td>Company - Private</td>\n",
              "      <td>Internet</td>\n",
              "      <td>Information Technology</td>\n",
              "      <td>Unknown / Non-Applicable</td>\n",
              "      <td>GoDaddy</td>\n",
              "      <td>True</td>\n",
              "      <td>37</td>\n",
              "      <td>66</td>\n",
              "      <td>New York</td>\n",
              "      <td>NY</td>\n",
              "      <td>0.0</td>\n",
              "    </tr>\n",
              "    <tr>\n",
              "      <th>3</th>\n",
              "      <td>Data Analyst</td>\n",
              "      <td>Requisition NumberRR-0001939\\nRemote:Yes\\nWe c...</td>\n",
              "      <td>4.1</td>\n",
              "      <td>Celerity</td>\n",
              "      <td>McLean, VA</td>\n",
              "      <td>201 to 500</td>\n",
              "      <td>2002</td>\n",
              "      <td>Subsidiary or Business Segment</td>\n",
              "      <td>IT Services</td>\n",
              "      <td>Information Technology</td>\n",
              "      <td>$50 to $100 million (USD)</td>\n",
              "      <td>NaN</td>\n",
              "      <td>True</td>\n",
              "      <td>37</td>\n",
              "      <td>66</td>\n",
              "      <td>New York</td>\n",
              "      <td>NY</td>\n",
              "      <td>100.0</td>\n",
              "    </tr>\n",
              "    <tr>\n",
              "      <th>4</th>\n",
              "      <td>Reporting Data Analyst</td>\n",
              "      <td>ABOUT FANDUEL GROUP\\n\\nFanDuel Group is a worl...</td>\n",
              "      <td>3.9</td>\n",
              "      <td>FanDuel</td>\n",
              "      <td>New York, NY</td>\n",
              "      <td>501 to 1000</td>\n",
              "      <td>2009</td>\n",
              "      <td>Company - Private</td>\n",
              "      <td>Sports &amp; Recreation</td>\n",
              "      <td>Arts, Entertainment &amp; Recreation</td>\n",
              "      <td>$100 to $500 million (USD)</td>\n",
              "      <td>DraftKings</td>\n",
              "      <td>True</td>\n",
              "      <td>37</td>\n",
              "      <td>66</td>\n",
              "      <td>New York</td>\n",
              "      <td>NY</td>\n",
              "      <td>500.0</td>\n",
              "    </tr>\n",
              "  </tbody>\n",
              "</table>\n",
              "</div>"
            ],
            "text/plain": [
              "                Job Title                                    Job Description  Rating                        Company Name  Headquarters          Size  Founded               Type of ownership                          Industry                            Sector                     Revenue Competitors  Easy Apply  salary_min  salary_max      City State  Max_revenue\n",
              "0            Data Analyst  Are you eager to roll up your sleeves and harn...     3.2           Vera Institute of Justice  New York, NY    201 to 500     1961          Nonprofit Organization                 Social Assistance                        Non-Profit  $100 to $500 million (USD)         NaN        True          37          66  New York    NY        500.0\n",
              "1    Quality Data Analyst  Overview\\n\\nProvides analytical and technical ...     3.8  Visiting Nurse Service of New York  New York, NY        10000+     1893          Nonprofit Organization  Health Care Services & Hospitals                       Health Care      $2 to $5 billion (USD)         NaN        True          37          66  New York    NY       5000.0\n",
              "2     Senior Data Analyst  We’re looking for a Senior Data Analyst who ha...     3.4                         Squarespace  New York, NY  1001 to 5000     2003               Company - Private                          Internet            Information Technology    Unknown / Non-Applicable     GoDaddy        True          37          66  New York    NY          0.0\n",
              "3            Data Analyst  Requisition NumberRR-0001939\\nRemote:Yes\\nWe c...     4.1                            Celerity    McLean, VA    201 to 500     2002  Subsidiary or Business Segment                       IT Services            Information Technology   $50 to $100 million (USD)         NaN        True          37          66  New York    NY        100.0\n",
              "4  Reporting Data Analyst  ABOUT FANDUEL GROUP\\n\\nFanDuel Group is a worl...     3.9                             FanDuel  New York, NY   501 to 1000     2009               Company - Private               Sports & Recreation  Arts, Entertainment & Recreation  $100 to $500 million (USD)  DraftKings        True          37          66  New York    NY        500.0"
            ]
          },
          "metadata": {
            "tags": []
          },
          "execution_count": 41
        }
      ]
    },
    {
      "cell_type": "code",
      "metadata": {
        "id": "jxmH4ec1x95m"
      },
      "source": [
        ""
      ],
      "execution_count": null,
      "outputs": []
    },
    {
      "cell_type": "code",
      "metadata": {
        "id": "u69h16x3x92l"
      },
      "source": [
        ""
      ],
      "execution_count": null,
      "outputs": []
    },
    {
      "cell_type": "code",
      "metadata": {
        "colab": {
          "base_uri": "https://localhost:8080/"
        },
        "id": "REu9TX7vx90E",
        "outputId": "31fc5270-5352-4f00-d259-2af003348126"
      },
      "source": [
        "df['Job Title'][~pd.isnull(df['Job Title'])]"
      ],
      "execution_count": null,
      "outputs": [
        {
          "output_type": "execute_result",
          "data": {
            "text/plain": [
              "0                                            Data Analyst\n",
              "1                                    Quality Data Analyst\n",
              "2                                     Senior Data Analyst\n",
              "3                                            Data Analyst\n",
              "4                                  Reporting Data Analyst\n",
              "                              ...                        \n",
              "2248    RQS - IHHA - 201900004460 -1q Data Security An...\n",
              "2249                Senior Data Analyst (Corporate Audit)\n",
              "2250                      Technical Business Analyst (SQL\n",
              "2251                                       Data Analyst 3\n",
              "2252                          Senior Quality Data Analyst\n",
              "Name: Job Title, Length: 2253, dtype: object"
            ]
          },
          "metadata": {
            "tags": []
          },
          "execution_count": 42
        }
      ]
    },
    {
      "cell_type": "code",
      "metadata": {
        "colab": {
          "base_uri": "https://localhost:8080/"
        },
        "id": "QlMntGebx9xl",
        "outputId": "7a855e1c-cf94-47b2-a09a-b34084d3620f"
      },
      "source": [
        "df['Job Title']"
      ],
      "execution_count": null,
      "outputs": [
        {
          "output_type": "execute_result",
          "data": {
            "text/plain": [
              "0                                            Data Analyst\n",
              "1                                    Quality Data Analyst\n",
              "2                                     Senior Data Analyst\n",
              "3                                            Data Analyst\n",
              "4                                  Reporting Data Analyst\n",
              "                              ...                        \n",
              "2248    RQS - IHHA - 201900004460 -1q Data Security An...\n",
              "2249                Senior Data Analyst (Corporate Audit)\n",
              "2250                      Technical Business Analyst (SQL\n",
              "2251                                       Data Analyst 3\n",
              "2252                          Senior Quality Data Analyst\n",
              "Name: Job Title, Length: 2253, dtype: object"
            ]
          },
          "metadata": {
            "tags": []
          },
          "execution_count": 43
        }
      ]
    },
    {
      "cell_type": "code",
      "metadata": {
        "colab": {
          "base_uri": "https://localhost:8080/"
        },
        "id": "pT1fCeOjx9uh",
        "outputId": "31ec0ea2-3943-4863-c7f1-35dc85ca75b9"
      },
      "source": [
        "[~pd.isnull(df['Job Title'])]"
      ],
      "execution_count": null,
      "outputs": [
        {
          "output_type": "execute_result",
          "data": {
            "text/plain": [
              "[0       True\n",
              " 1       True\n",
              " 2       True\n",
              " 3       True\n",
              " 4       True\n",
              "         ... \n",
              " 2248    True\n",
              " 2249    True\n",
              " 2250    True\n",
              " 2251    True\n",
              " 2252    True\n",
              " Name: Job Title, Length: 2253, dtype: bool]"
            ]
          },
          "metadata": {
            "tags": []
          },
          "execution_count": 44
        }
      ]
    },
    {
      "cell_type": "code",
      "metadata": {
        "id": "a-i5chFJ6Gnq"
      },
      "source": [
        "job_title=df['Job Title'][~pd.isnull(df['Job Title'])]"
      ],
      "execution_count": null,
      "outputs": []
    },
    {
      "cell_type": "code",
      "metadata": {
        "colab": {
          "base_uri": "https://localhost:8080/"
        },
        "id": "SKHUIUUTx9r1",
        "outputId": "c62c5cbd-4705-49c5-c6df-e37ca2842f28"
      },
      "source": [
        "WordCloud(background_color='white',width=500,height= 200).generate(' '.join(job_title))"
      ],
      "execution_count": null,
      "outputs": [
        {
          "output_type": "execute_result",
          "data": {
            "text/plain": [
              "<wordcloud.wordcloud.WordCloud at 0x7f0f77b8b668>"
            ]
          },
          "metadata": {
            "tags": []
          },
          "execution_count": 47
        }
      ]
    },
    {
      "cell_type": "code",
      "metadata": {
        "colab": {
          "base_uri": "https://localhost:8080/",
          "height": 173
        },
        "id": "sBjaQE9Rx9mE",
        "outputId": "76f1c5a0-628d-4323-d423-40df90d8c136"
      },
      "source": [
        "set(stopwords.words('english')).head(5)"
      ],
      "execution_count": null,
      "outputs": [
        {
          "output_type": "error",
          "ename": "AttributeError",
          "evalue": "ignored",
          "traceback": [
            "\u001b[0;31m---------------------------------------------------------------------------\u001b[0m",
            "\u001b[0;31mAttributeError\u001b[0m                            Traceback (most recent call last)",
            "\u001b[0;32m<ipython-input-48-d39a5f2eef48>\u001b[0m in \u001b[0;36m<module>\u001b[0;34m()\u001b[0m\n\u001b[0;32m----> 1\u001b[0;31m \u001b[0mset\u001b[0m\u001b[0;34m(\u001b[0m\u001b[0mstopwords\u001b[0m\u001b[0;34m.\u001b[0m\u001b[0mwords\u001b[0m\u001b[0;34m(\u001b[0m\u001b[0;34m'english'\u001b[0m\u001b[0;34m)\u001b[0m\u001b[0;34m)\u001b[0m\u001b[0;34m.\u001b[0m\u001b[0mhead\u001b[0m\u001b[0;34m(\u001b[0m\u001b[0;36m5\u001b[0m\u001b[0;34m)\u001b[0m\u001b[0;34m\u001b[0m\u001b[0;34m\u001b[0m\u001b[0m\n\u001b[0m",
            "\u001b[0;31mAttributeError\u001b[0m: 'set' object has no attribute 'head'"
          ]
        }
      ]
    },
    {
      "cell_type": "code",
      "metadata": {
        "id": "i6CfSnzV7NFa"
      },
      "source": [
        "# Removing stopwords\r\n",
        "def removing_stopwords(text):\r\n",
        "   #removing some important stopwords from stopwords\r\n",
        "    Stopwords=set(stopwords.words('english'))\r\n",
        "    return \" \".join([word for word in str(text).split() if word not in Stopwords])"
      ],
      "execution_count": null,
      "outputs": []
    },
    {
      "cell_type": "code",
      "metadata": {
        "id": "Ut5MW1uk9RHT"
      },
      "source": [
        "pg_lan = [\"python\",\"c++\",\"java\",\"matlab\",\".net\",\"c#\",\"javascript\",\"html\",\"bash\"]\r\n",
        "big_data = [\"big data\",\"hadoop\",\"spark\",\"impala\",\"cassandra\",\"kafka\",\"hdfs\",\"hbase\",\"hive\"]\r\n",
        "job = df[\"Job Description\"].tolist()\r\n",
        "job = [x.lower() for x in job]"
      ],
      "execution_count": null,
      "outputs": []
    },
    {
      "cell_type": "code",
      "metadata": {
        "id": "RyQ8xouv9Znq"
      },
      "source": [
        "pg_lan_required = defaultdict()\r\n",
        "for item in pg_lan:\r\n",
        "    counter = 0\r\n",
        "    for it in job:\r\n",
        "        if item in it:\r\n",
        "            counter = counter + 1\r\n",
        "    pg_lan_required[item] = counter\r\n",
        "\r\n",
        "pg_lan_df = pd.DataFrame(list(pg_lan_required.items()),columns = ['Programming Langauge','count']) \r\n",
        "pg_lan_df.sort_values([\"count\"], axis=0, ascending=False, inplace=True)"
      ],
      "execution_count": null,
      "outputs": []
    },
    {
      "cell_type": "code",
      "metadata": {
        "colab": {
          "base_uri": "https://localhost:8080/",
          "height": 342
        },
        "id": "e0a2Y9bu8j2m",
        "outputId": "1f8a2f20-fe80-4044-f7ea-35bda02abe5d"
      },
      "source": [
        "plt.figure(figsize = (20,7))\r\n",
        "x = pg_lan_df[\"Programming Langauge\"]\r\n",
        "y = pg_lan_df[\"count\"]\r\n",
        "plt.bar(x,y,color= \"#4090c5\")\r\n",
        "plt.title(\"Top programming languages required\",fontsize=17)\r\n",
        "plt.xlabel(\"Programming Languages\",fontsize=15)\r\n",
        "plt.ylabel(\"Count\",fontsize=15)\r\n",
        "plt.xticks(fontsize=13)\r\n",
        "plt.yticks(fontsize=13)"
      ],
      "execution_count": null,
      "outputs": [
        {
          "output_type": "execute_result",
          "data": {
            "text/plain": [
              "(array([  0., 100., 200., 300., 400., 500., 600., 700.]),\n",
              " <a list of 8 Text major ticklabel objects>)"
            ]
          },
          "metadata": {
            "tags": []
          },
          "execution_count": 52
        },
        {
          "output_type": "display_data",
          "data": {
            "image/png": "[encoded data removed]",
            "text/plain": [
              "<Figure size 1440x504 with 1 Axes>"
            ]
          },
          "metadata": {
            "tags": [],
            "needs_background": "light"
          }
        }
      ]
    },
    {
      "cell_type": "code",
      "metadata": {
        "colab": {
          "base_uri": "https://localhost:8080/",
          "height": 168
        },
        "id": "yjUnOV-l9JpL",
        "outputId": "baa2a6d9-6796-45a7-adca-ca9a4057598a"
      },
      "source": [
        "pd.DataFrame(df.groupby('State').count().iloc[:,1]).head(3)"
      ],
      "execution_count": null,
      "outputs": [
        {
          "output_type": "execute_result",
          "data": {
            "text/html": [
              "<div>\n",
              "<style scoped>\n",
              "    .dataframe tbody tr th:only-of-type {\n",
              "        vertical-align: middle;\n",
              "    }\n",
              "\n",
              "    .dataframe tbody tr th {\n",
              "        vertical-align: top;\n",
              "    }\n",
              "\n",
              "    .dataframe thead th {\n",
              "        text-align: right;\n",
              "    }\n",
              "</style>\n",
              "<table border=\"1\" class=\"dataframe\">\n",
              "  <thead>\n",
              "    <tr style=\"text-align: right;\">\n",
              "      <th></th>\n",
              "      <th>Job Description</th>\n",
              "    </tr>\n",
              "    <tr>\n",
              "      <th>State</th>\n",
              "      <th></th>\n",
              "    </tr>\n",
              "  </thead>\n",
              "  <tbody>\n",
              "    <tr>\n",
              "      <th>AZ</th>\n",
              "      <td>97</td>\n",
              "    </tr>\n",
              "    <tr>\n",
              "      <th>CA</th>\n",
              "      <td>626</td>\n",
              "    </tr>\n",
              "    <tr>\n",
              "      <th>CO</th>\n",
              "      <td>96</td>\n",
              "    </tr>\n",
              "  </tbody>\n",
              "</table>\n",
              "</div>"
            ],
            "text/plain": [
              "       Job Description\n",
              "State                 \n",
              "AZ                  97\n",
              "CA                 626\n",
              "CO                  96"
            ]
          },
          "metadata": {
            "tags": []
          },
          "execution_count": 53
        }
      ]
    },
    {
      "cell_type": "code",
      "metadata": {
        "colab": {
          "base_uri": "https://localhost:8080/",
          "height": 542
        },
        "id": "bye6Nakw9sjv",
        "outputId": "8aa0425b-075f-4986-8707-18493c01f725"
      },
      "source": [
        "statewise_count=pd.DataFrame(df.groupby('State').count().iloc[:,1]).reset_index()\r\n",
        "\r\n",
        "\r\n",
        "data = dict(type='choropleth',\r\n",
        "            locations = statewise_count['State'],\r\n",
        "            locationmode = 'USA-states',\r\n",
        "            colorscale='blues',\r\n",
        "            z = statewise_count['Job Description'],\r\n",
        "            colorbar = {'title':\"number of jobs\"}\r\n",
        "            )\r\n",
        "\r\n",
        "layout = dict(title = 'Data Analyst jobs per state',geo = dict(scope='usa'))\r\n",
        "\r\n",
        "choromap = go.Figure(data = [data],layout = layout)\r\n",
        "iplot(choromap)"
      ],
      "execution_count": null,
      "outputs": [
        {
          "output_type": "display_data",
          "data": {
            "text/html": [
              "<html>\n",
              "<head><meta charset=\"utf-8\" /></head>\n",
              "<body>\n",
              "    <div>\n",
              "            <script src=\"https://cdnjs.cloudflare.com/ajax/libs/mathjax/2.7.5/MathJax.js?config=TeX-AMS-MML_SVG\"></script><script type=\"text/javascript\">if (window.MathJax) {MathJax.Hub.Config({SVG: {font: \"STIX-Web\"}});}</script>\n",
              "                <script type=\"text/javascript\">window.PlotlyConfig = {MathJaxConfig: 'local'};</script>\n",
              "        <script src=\"https://cdn.plot.ly/plotly-latest.min.js\"></script>    \n",
              "            <div id=\"0b454958-7d20-44e2-ba17-8d6911aeb0b9\" class=\"plotly-graph-div\" style=\"height:525px; width:100%;\"></div>\n",
              "            <script type=\"text/javascript\">\n",
              "                \n",
              "                    window.PLOTLYENV=window.PLOTLYENV || {};\n",
              "                    \n",
              "                if (document.getElementById(\"0b454958-7d20-44e2-ba17-8d6911aeb0b9\")) {\n",
              "                    Plotly.newPlot(\n",
              "                        '0b454958-7d20-44e2-ba17-8d6911aeb0b9',\n",
              "                        [{\"colorbar\": {\"title\": {\"text\": \"number of jobs\"}}, \"colorscale\": [[0.0, \"rgb(247,251,255)\"], [0.125, \"rgb(222,235,247)\"], [0.25, \"rgb(198,219,239)\"], [0.375, \"rgb(158,202,225)\"], [0.5, \"rgb(107,174,214)\"], [0.625, \"rgb(66,146,198)\"], [0.75, \"rgb(33,113,181)\"], [0.875, \"rgb(8,81,156)\"], [1.0, \"rgb(8,48,107)\"]], \"locationmode\": \"USA-states\", \"locations\": [\"AZ\", \"CA\", \"CO\", \"DE\", \"FL\", \"GA\", \"IL\", \"IN\", \"KS\", \"NC\", \"NJ\", \"NY\", \"OH\", \"PA\", \"SC\", \"TX\", \"UT\", \"VA\", \"WA\"], \"type\": \"choropleth\", \"z\": [97, 626, 96, 11, 27, 4, 164, 23, 3, 90, 86, 345, 35, 114, 3, 394, 33, 48, 54]}],\n",
              "                        {\"geo\": {\"scope\": \"usa\"}, \"template\": {\"data\": {\"bar\": [{\"error_x\": {\"color\": \"#2a3f5f\"}, \"error_y\": {\"color\": \"#2a3f5f\"}, \"marker\": {\"line\": {\"color\": \"#E5ECF6\", \"width\": 0.5}}, \"type\": \"bar\"}], \"barpolar\": [{\"marker\": {\"line\": {\"color\": \"#E5ECF6\", \"width\": 0.5}}, \"type\": \"barpolar\"}], \"carpet\": [{\"aaxis\": {\"endlinecolor\": \"#2a3f5f\", \"gridcolor\": \"white\", \"linecolor\": \"white\", \"minorgridcolor\": \"white\", \"startlinecolor\": \"#2a3f5f\"}, \"baxis\": {\"endlinecolor\": \"#2a3f5f\", \"gridcolor\": \"white\", \"linecolor\": \"white\", \"minorgridcolor\": \"white\", \"startlinecolor\": \"#2a3f5f\"}, \"type\": \"carpet\"}], \"choropleth\": [{\"colorbar\": {\"outlinewidth\": 0, \"ticks\": \"\"}, \"type\": \"choropleth\"}], \"contour\": [{\"colorbar\": {\"outlinewidth\": 0, \"ticks\": \"\"}, \"colorscale\": [[0.0, \"#0d0887\"], [0.1111111111111111, \"#46039f\"], [0.2222222222222222, \"#7201a8\"], [0.3333333333333333, \"#9c179e\"], [0.4444444444444444, \"#bd3786\"], [0.5555555555555556, \"#d8576b\"], [0.6666666666666666, \"#ed7953\"], [0.7777777777777778, \"#fb9f3a\"], [0.8888888888888888, \"#fdca26\"], [1.0, \"#f0f921\"]], \"type\": \"contour\"}], \"contourcarpet\": [{\"colorbar\": {\"outlinewidth\": 0, \"ticks\": \"\"}, \"type\": \"contourcarpet\"}], \"heatmap\": [{\"colorbar\": {\"outlinewidth\": 0, \"ticks\": \"\"}, \"colorscale\": [[0.0, \"#0d0887\"], [0.1111111111111111, \"#46039f\"], [0.2222222222222222, \"#7201a8\"], [0.3333333333333333, \"#9c179e\"], [0.4444444444444444, \"#bd3786\"], [0.5555555555555556, \"#d8576b\"], [0.6666666666666666, \"#ed7953\"], [0.7777777777777778, \"#fb9f3a\"], [0.8888888888888888, \"#fdca26\"], [1.0, \"#f0f921\"]], \"type\": \"heatmap\"}], \"heatmapgl\": [{\"colorbar\": {\"outlinewidth\": 0, \"ticks\": \"\"}, \"colorscale\": [[0.0, \"#0d0887\"], [0.1111111111111111, \"#46039f\"], [0.2222222222222222, \"#7201a8\"], [0.3333333333333333, \"#9c179e\"], [0.4444444444444444, \"#bd3786\"], [0.5555555555555556, \"#d8576b\"], [0.6666666666666666, \"#ed7953\"], [0.7777777777777778, \"#fb9f3a\"], [0.8888888888888888, \"#fdca26\"], [1.0, \"#f0f921\"]], \"type\": \"heatmapgl\"}], \"histogram\": [{\"marker\": {\"colorbar\": {\"outlinewidth\": 0, \"ticks\": \"\"}}, \"type\": \"histogram\"}], \"histogram2d\": [{\"colorbar\": {\"outlinewidth\": 0, \"ticks\": \"\"}, \"colorscale\": [[0.0, \"#0d0887\"], [0.1111111111111111, \"#46039f\"], [0.2222222222222222, \"#7201a8\"], [0.3333333333333333, \"#9c179e\"], [0.4444444444444444, \"#bd3786\"], [0.5555555555555556, \"#d8576b\"], [0.6666666666666666, \"#ed7953\"], [0.7777777777777778, \"#fb9f3a\"], [0.8888888888888888, \"#fdca26\"], [1.0, \"#f0f921\"]], \"type\": \"histogram2d\"}], \"histogram2dcontour\": [{\"colorbar\": {\"outlinewidth\": 0, \"ticks\": \"\"}, \"colorscale\": [[0.0, \"#0d0887\"], [0.1111111111111111, \"#46039f\"], [0.2222222222222222, \"#7201a8\"], [0.3333333333333333, \"#9c179e\"], [0.4444444444444444, \"#bd3786\"], [0.5555555555555556, \"#d8576b\"], [0.6666666666666666, \"#ed7953\"], [0.7777777777777778, \"#fb9f3a\"], [0.8888888888888888, \"#fdca26\"], [1.0, \"#f0f921\"]], \"type\": \"histogram2dcontour\"}], \"mesh3d\": [{\"colorbar\": {\"outlinewidth\": 0, \"ticks\": \"\"}, \"type\": \"mesh3d\"}], \"parcoords\": [{\"line\": {\"colorbar\": {\"outlinewidth\": 0, \"ticks\": \"\"}}, \"type\": \"parcoords\"}], \"pie\": [{\"automargin\": true, \"type\": \"pie\"}], \"scatter\": [{\"marker\": {\"colorbar\": {\"outlinewidth\": 0, \"ticks\": \"\"}}, \"type\": \"scatter\"}], \"scatter3d\": [{\"line\": {\"colorbar\": {\"outlinewidth\": 0, \"ticks\": \"\"}}, \"marker\": {\"colorbar\": {\"outlinewidth\": 0, \"ticks\": \"\"}}, \"type\": \"scatter3d\"}], \"scattercarpet\": [{\"marker\": {\"colorbar\": {\"outlinewidth\": 0, \"ticks\": \"\"}}, \"type\": \"scattercarpet\"}], \"scattergeo\": [{\"marker\": {\"colorbar\": {\"outlinewidth\": 0, \"ticks\": \"\"}}, \"type\": \"scattergeo\"}], \"scattergl\": [{\"marker\": {\"colorbar\": {\"outlinewidth\": 0, \"ticks\": \"\"}}, \"type\": \"scattergl\"}], \"scattermapbox\": [{\"marker\": {\"colorbar\": {\"outlinewidth\": 0, \"ticks\": \"\"}}, \"type\": \"scattermapbox\"}], \"scatterpolar\": [{\"marker\": {\"colorbar\": {\"outlinewidth\": 0, \"ticks\": \"\"}}, \"type\": \"scatterpolar\"}], \"scatterpolargl\": [{\"marker\": {\"colorbar\": {\"outlinewidth\": 0, \"ticks\": \"\"}}, \"type\": \"scatterpolargl\"}], \"scatterternary\": [{\"marker\": {\"colorbar\": {\"outlinewidth\": 0, \"ticks\": \"\"}}, \"type\": \"scatterternary\"}], \"surface\": [{\"colorbar\": {\"outlinewidth\": 0, \"ticks\": \"\"}, \"colorscale\": [[0.0, \"#0d0887\"], [0.1111111111111111, \"#46039f\"], [0.2222222222222222, \"#7201a8\"], [0.3333333333333333, \"#9c179e\"], [0.4444444444444444, \"#bd3786\"], [0.5555555555555556, \"#d8576b\"], [0.6666666666666666, \"#ed7953\"], [0.7777777777777778, \"#fb9f3a\"], [0.8888888888888888, \"#fdca26\"], [1.0, \"#f0f921\"]], \"type\": \"surface\"}], \"table\": [{\"cells\": {\"fill\": {\"color\": \"#EBF0F8\"}, \"line\": {\"color\": \"white\"}}, \"header\": {\"fill\": {\"color\": \"#C8D4E3\"}, \"line\": {\"color\": \"white\"}}, \"type\": \"table\"}]}, \"layout\": {\"annotationdefaults\": {\"arrowcolor\": \"#2a3f5f\", \"arrowhead\": 0, \"arrowwidth\": 1}, \"coloraxis\": {\"colorbar\": {\"outlinewidth\": 0, \"ticks\": \"\"}}, \"colorscale\": {\"diverging\": [[0, \"#8e0152\"], [0.1, \"#c51b7d\"], [0.2, \"#de77ae\"], [0.3, \"#f1b6da\"], [0.4, \"#fde0ef\"], [0.5, \"#f7f7f7\"], [0.6, \"#e6f5d0\"], [0.7, \"#b8e186\"], [0.8, \"#7fbc41\"], [0.9, \"#4d9221\"], [1, \"#276419\"]], \"sequential\": [[0.0, \"#0d0887\"], [0.1111111111111111, \"#46039f\"], [0.2222222222222222, \"#7201a8\"], [0.3333333333333333, \"#9c179e\"], [0.4444444444444444, \"#bd3786\"], [0.5555555555555556, \"#d8576b\"], [0.6666666666666666, \"#ed7953\"], [0.7777777777777778, \"#fb9f3a\"], [0.8888888888888888, \"#fdca26\"], [1.0, \"#f0f921\"]], \"sequentialminus\": [[0.0, \"#0d0887\"], [0.1111111111111111, \"#46039f\"], [0.2222222222222222, \"#7201a8\"], [0.3333333333333333, \"#9c179e\"], [0.4444444444444444, \"#bd3786\"], [0.5555555555555556, \"#d8576b\"], [0.6666666666666666, \"#ed7953\"], [0.7777777777777778, \"#fb9f3a\"], [0.8888888888888888, \"#fdca26\"], [1.0, \"#f0f921\"]]}, \"colorway\": [\"#636efa\", \"#EF553B\", \"#00cc96\", \"#ab63fa\", \"#FFA15A\", \"#19d3f3\", \"#FF6692\", \"#B6E880\", \"#FF97FF\", \"#FECB52\"], \"font\": {\"color\": \"#2a3f5f\"}, \"geo\": {\"bgcolor\": \"white\", \"lakecolor\": \"white\", \"landcolor\": \"#E5ECF6\", \"showlakes\": true, \"showland\": true, \"subunitcolor\": \"white\"}, \"hoverlabel\": {\"align\": \"left\"}, \"hovermode\": \"closest\", \"mapbox\": {\"style\": \"light\"}, \"paper_bgcolor\": \"white\", \"plot_bgcolor\": \"#E5ECF6\", \"polar\": {\"angularaxis\": {\"gridcolor\": \"white\", \"linecolor\": \"white\", \"ticks\": \"\"}, \"bgcolor\": \"#E5ECF6\", \"radialaxis\": {\"gridcolor\": \"white\", \"linecolor\": \"white\", \"ticks\": \"\"}}, \"scene\": {\"xaxis\": {\"backgroundcolor\": \"#E5ECF6\", \"gridcolor\": \"white\", \"gridwidth\": 2, \"linecolor\": \"white\", \"showbackground\": true, \"ticks\": \"\", \"zerolinecolor\": \"white\"}, \"yaxis\": {\"backgroundcolor\": \"#E5ECF6\", \"gridcolor\": \"white\", \"gridwidth\": 2, \"linecolor\": \"white\", \"showbackground\": true, \"ticks\": \"\", \"zerolinecolor\": \"white\"}, \"zaxis\": {\"backgroundcolor\": \"#E5ECF6\", \"gridcolor\": \"white\", \"gridwidth\": 2, \"linecolor\": \"white\", \"showbackground\": true, \"ticks\": \"\", \"zerolinecolor\": \"white\"}}, \"shapedefaults\": {\"line\": {\"color\": \"#2a3f5f\"}}, \"ternary\": {\"aaxis\": {\"gridcolor\": \"white\", \"linecolor\": \"white\", \"ticks\": \"\"}, \"baxis\": {\"gridcolor\": \"white\", \"linecolor\": \"white\", \"ticks\": \"\"}, \"bgcolor\": \"#E5ECF6\", \"caxis\": {\"gridcolor\": \"white\", \"linecolor\": \"white\", \"ticks\": \"\"}}, \"title\": {\"x\": 0.05}, \"xaxis\": {\"automargin\": true, \"gridcolor\": \"white\", \"linecolor\": \"white\", \"ticks\": \"\", \"title\": {\"standoff\": 15}, \"zerolinecolor\": \"white\", \"zerolinewidth\": 2}, \"yaxis\": {\"automargin\": true, \"gridcolor\": \"white\", \"linecolor\": \"white\", \"ticks\": \"\", \"title\": {\"standoff\": 15}, \"zerolinecolor\": \"white\", \"zerolinewidth\": 2}}}, \"title\": {\"text\": \"Data Analyst jobs per state\"}},\n",
              "                        {\"responsive\": true}\n",
              "                    ).then(function(){\n",
              "                            \n",
              "var gd = document.getElementById('0b454958-7d20-44e2-ba17-8d6911aeb0b9');\n",
              "var x = new MutationObserver(function (mutations, observer) {{\n",
              "        var display = window.getComputedStyle(gd).display;\n",
              "        if (!display || display === 'none') {{\n",
              "            console.log([gd, 'removed!']);\n",
              "            Plotly.purge(gd);\n",
              "            observer.disconnect();\n",
              "        }}\n",
              "}});\n",
              "\n",
              "// Listen for the removal of the full notebook cells\n",
              "var notebookContainer = gd.closest('#notebook-container');\n",
              "if (notebookContainer) {{\n",
              "    x.observe(notebookContainer, {childList: true});\n",
              "}}\n",
              "\n",
              "// Listen for the clearing of the current output cell\n",
              "var outputEl = gd.closest('.output');\n",
              "if (outputEl) {{\n",
              "    x.observe(outputEl, {childList: true});\n",
              "}}\n",
              "\n",
              "                        })\n",
              "                };\n",
              "                \n",
              "            </script>\n",
              "        </div>\n",
              "</body>\n",
              "</html>"
            ]
          },
          "metadata": {
            "tags": []
          }
        }
      ]
    },
    {
      "cell_type": "code",
      "metadata": {
        "colab": {
          "base_uri": "https://localhost:8080/",
          "height": 138
        },
        "id": "LscIGBcS_XBa",
        "outputId": "d08b1b2b-2bd4-4f70-9565-b05b4ce62d66"
      },
      "source": [
        "statewise_count.head(3)"
      ],
      "execution_count": null,
      "outputs": [
        {
          "output_type": "execute_result",
          "data": {
            "text/html": [
              "<div>\n",
              "<style scoped>\n",
              "    .dataframe tbody tr th:only-of-type {\n",
              "        vertical-align: middle;\n",
              "    }\n",
              "\n",
              "    .dataframe tbody tr th {\n",
              "        vertical-align: top;\n",
              "    }\n",
              "\n",
              "    .dataframe thead th {\n",
              "        text-align: right;\n",
              "    }\n",
              "</style>\n",
              "<table border=\"1\" class=\"dataframe\">\n",
              "  <thead>\n",
              "    <tr style=\"text-align: right;\">\n",
              "      <th></th>\n",
              "      <th>State</th>\n",
              "      <th>Job Description</th>\n",
              "    </tr>\n",
              "  </thead>\n",
              "  <tbody>\n",
              "    <tr>\n",
              "      <th>0</th>\n",
              "      <td>AZ</td>\n",
              "      <td>97</td>\n",
              "    </tr>\n",
              "    <tr>\n",
              "      <th>1</th>\n",
              "      <td>CA</td>\n",
              "      <td>626</td>\n",
              "    </tr>\n",
              "    <tr>\n",
              "      <th>2</th>\n",
              "      <td>CO</td>\n",
              "      <td>96</td>\n",
              "    </tr>\n",
              "  </tbody>\n",
              "</table>\n",
              "</div>"
            ],
            "text/plain": [
              "  State  Job Description\n",
              "0    AZ               97\n",
              "1    CA              626\n",
              "2    CO               96"
            ]
          },
          "metadata": {
            "tags": []
          },
          "execution_count": 56
        }
      ]
    },
    {
      "cell_type": "code",
      "metadata": {
        "id": "f3sJZpfR_hp6"
      },
      "source": [
        "choromap"
      ],
      "execution_count": null,
      "outputs": []
    },
    {
      "cell_type": "code",
      "metadata": {
        "colab": {
          "base_uri": "https://localhost:8080/",
          "height": 542
        },
        "id": "V3ytLVwD_sB6",
        "outputId": "358de75d-fb38-4b6a-8333-3ef14c103211"
      },
      "source": [
        "iplot(choromap)"
      ],
      "execution_count": null,
      "outputs": [
        {
          "output_type": "display_data",
          "data": {
            "text/html": [
              "<html>\n",
              "<head><meta charset=\"utf-8\" /></head>\n",
              "<body>\n",
              "    <div>\n",
              "            <script src=\"https://cdnjs.cloudflare.com/ajax/libs/mathjax/2.7.5/MathJax.js?config=TeX-AMS-MML_SVG\"></script><script type=\"text/javascript\">if (window.MathJax) {MathJax.Hub.Config({SVG: {font: \"STIX-Web\"}});}</script>\n",
              "                <script type=\"text/javascript\">window.PlotlyConfig = {MathJaxConfig: 'local'};</script>\n",
              "        <script src=\"https://cdn.plot.ly/plotly-latest.min.js\"></script>    \n",
              "            <div id=\"90d08d5c-0e32-477f-8a30-84076c9313dd\" class=\"plotly-graph-div\" style=\"height:525px; width:100%;\"></div>\n",
              "            <script type=\"text/javascript\">\n",
              "                \n",
              "                    window.PLOTLYENV=window.PLOTLYENV || {};\n",
              "                    \n",
              "                if (document.getElementById(\"90d08d5c-0e32-477f-8a30-84076c9313dd\")) {\n",
              "                    Plotly.newPlot(\n",
              "                        '90d08d5c-0e32-477f-8a30-84076c9313dd',\n",
              "                        [{\"colorbar\": {\"title\": {\"text\": \"number of jobs\"}}, \"colorscale\": [[0.0, \"rgb(247,251,255)\"], [0.125, \"rgb(222,235,247)\"], [0.25, \"rgb(198,219,239)\"], [0.375, \"rgb(158,202,225)\"], [0.5, \"rgb(107,174,214)\"], [0.625, \"rgb(66,146,198)\"], [0.75, \"rgb(33,113,181)\"], [0.875, \"rgb(8,81,156)\"], [1.0, \"rgb(8,48,107)\"]], \"locationmode\": \"USA-states\", \"locations\": [\"AZ\", \"CA\", \"CO\", \"DE\", \"FL\", \"GA\", \"IL\", \"IN\", \"KS\", \"NC\", \"NJ\", \"NY\", \"OH\", \"PA\", \"SC\", \"TX\", \"UT\", \"VA\", \"WA\"], \"type\": \"choropleth\", \"z\": [97, 626, 96, 11, 27, 4, 164, 23, 3, 90, 86, 345, 35, 114, 3, 394, 33, 48, 54]}],\n",
              "                        {\"geo\": {\"scope\": \"usa\"}, \"template\": {\"data\": {\"bar\": [{\"error_x\": {\"color\": \"#2a3f5f\"}, \"error_y\": {\"color\": \"#2a3f5f\"}, \"marker\": {\"line\": {\"color\": \"#E5ECF6\", \"width\": 0.5}}, \"type\": \"bar\"}], \"barpolar\": [{\"marker\": {\"line\": {\"color\": \"#E5ECF6\", \"width\": 0.5}}, \"type\": \"barpolar\"}], \"carpet\": [{\"aaxis\": {\"endlinecolor\": \"#2a3f5f\", \"gridcolor\": \"white\", \"linecolor\": \"white\", \"minorgridcolor\": \"white\", \"startlinecolor\": \"#2a3f5f\"}, \"baxis\": {\"endlinecolor\": \"#2a3f5f\", \"gridcolor\": \"white\", \"linecolor\": \"white\", \"minorgridcolor\": \"white\", \"startlinecolor\": \"#2a3f5f\"}, \"type\": \"carpet\"}], \"choropleth\": [{\"colorbar\": {\"outlinewidth\": 0, \"ticks\": \"\"}, \"type\": \"choropleth\"}], \"contour\": [{\"colorbar\": {\"outlinewidth\": 0, \"ticks\": \"\"}, \"colorscale\": [[0.0, \"#0d0887\"], [0.1111111111111111, \"#46039f\"], [0.2222222222222222, \"#7201a8\"], [0.3333333333333333, \"#9c179e\"], [0.4444444444444444, \"#bd3786\"], [0.5555555555555556, \"#d8576b\"], [0.6666666666666666, \"#ed7953\"], [0.7777777777777778, \"#fb9f3a\"], [0.8888888888888888, \"#fdca26\"], [1.0, \"#f0f921\"]], \"type\": \"contour\"}], \"contourcarpet\": [{\"colorbar\": {\"outlinewidth\": 0, \"ticks\": \"\"}, \"type\": \"contourcarpet\"}], \"heatmap\": [{\"colorbar\": {\"outlinewidth\": 0, \"ticks\": \"\"}, \"colorscale\": [[0.0, \"#0d0887\"], [0.1111111111111111, \"#46039f\"], [0.2222222222222222, \"#7201a8\"], [0.3333333333333333, \"#9c179e\"], [0.4444444444444444, \"#bd3786\"], [0.5555555555555556, \"#d8576b\"], [0.6666666666666666, \"#ed7953\"], [0.7777777777777778, \"#fb9f3a\"], [0.8888888888888888, \"#fdca26\"], [1.0, \"#f0f921\"]], \"type\": \"heatmap\"}], \"heatmapgl\": [{\"colorbar\": {\"outlinewidth\": 0, \"ticks\": \"\"}, \"colorscale\": [[0.0, \"#0d0887\"], [0.1111111111111111, \"#46039f\"], [0.2222222222222222, \"#7201a8\"], [0.3333333333333333, \"#9c179e\"], [0.4444444444444444, \"#bd3786\"], [0.5555555555555556, \"#d8576b\"], [0.6666666666666666, \"#ed7953\"], [0.7777777777777778, \"#fb9f3a\"], [0.8888888888888888, \"#fdca26\"], [1.0, \"#f0f921\"]], \"type\": \"heatmapgl\"}], \"histogram\": [{\"marker\": {\"colorbar\": {\"outlinewidth\": 0, \"ticks\": \"\"}}, \"type\": \"histogram\"}], \"histogram2d\": [{\"colorbar\": {\"outlinewidth\": 0, \"ticks\": \"\"}, \"colorscale\": [[0.0, \"#0d0887\"], [0.1111111111111111, \"#46039f\"], [0.2222222222222222, \"#7201a8\"], [0.3333333333333333, \"#9c179e\"], [0.4444444444444444, \"#bd3786\"], [0.5555555555555556, \"#d8576b\"], [0.6666666666666666, \"#ed7953\"], [0.7777777777777778, \"#fb9f3a\"], [0.8888888888888888, \"#fdca26\"], [1.0, \"#f0f921\"]], \"type\": \"histogram2d\"}], \"histogram2dcontour\": [{\"colorbar\": {\"outlinewidth\": 0, \"ticks\": \"\"}, \"colorscale\": [[0.0, \"#0d0887\"], [0.1111111111111111, \"#46039f\"], [0.2222222222222222, \"#7201a8\"], [0.3333333333333333, \"#9c179e\"], [0.4444444444444444, \"#bd3786\"], [0.5555555555555556, \"#d8576b\"], [0.6666666666666666, \"#ed7953\"], [0.7777777777777778, \"#fb9f3a\"], [0.8888888888888888, \"#fdca26\"], [1.0, \"#f0f921\"]], \"type\": \"histogram2dcontour\"}], \"mesh3d\": [{\"colorbar\": {\"outlinewidth\": 0, \"ticks\": \"\"}, \"type\": \"mesh3d\"}], \"parcoords\": [{\"line\": {\"colorbar\": {\"outlinewidth\": 0, \"ticks\": \"\"}}, \"type\": \"parcoords\"}], \"pie\": [{\"automargin\": true, \"type\": \"pie\"}], \"scatter\": [{\"marker\": {\"colorbar\": {\"outlinewidth\": 0, \"ticks\": \"\"}}, \"type\": \"scatter\"}], \"scatter3d\": [{\"line\": {\"colorbar\": {\"outlinewidth\": 0, \"ticks\": \"\"}}, \"marker\": {\"colorbar\": {\"outlinewidth\": 0, \"ticks\": \"\"}}, \"type\": \"scatter3d\"}], \"scattercarpet\": [{\"marker\": {\"colorbar\": {\"outlinewidth\": 0, \"ticks\": \"\"}}, \"type\": \"scattercarpet\"}], \"scattergeo\": [{\"marker\": {\"colorbar\": {\"outlinewidth\": 0, \"ticks\": \"\"}}, \"type\": \"scattergeo\"}], \"scattergl\": [{\"marker\": {\"colorbar\": {\"outlinewidth\": 0, \"ticks\": \"\"}}, \"type\": \"scattergl\"}], \"scattermapbox\": [{\"marker\": {\"colorbar\": {\"outlinewidth\": 0, \"ticks\": \"\"}}, \"type\": \"scattermapbox\"}], \"scatterpolar\": [{\"marker\": {\"colorbar\": {\"outlinewidth\": 0, \"ticks\": \"\"}}, \"type\": \"scatterpolar\"}], \"scatterpolargl\": [{\"marker\": {\"colorbar\": {\"outlinewidth\": 0, \"ticks\": \"\"}}, \"type\": \"scatterpolargl\"}], \"scatterternary\": [{\"marker\": {\"colorbar\": {\"outlinewidth\": 0, \"ticks\": \"\"}}, \"type\": \"scatterternary\"}], \"surface\": [{\"colorbar\": {\"outlinewidth\": 0, \"ticks\": \"\"}, \"colorscale\": [[0.0, \"#0d0887\"], [0.1111111111111111, \"#46039f\"], [0.2222222222222222, \"#7201a8\"], [0.3333333333333333, \"#9c179e\"], [0.4444444444444444, \"#bd3786\"], [0.5555555555555556, \"#d8576b\"], [0.6666666666666666, \"#ed7953\"], [0.7777777777777778, \"#fb9f3a\"], [0.8888888888888888, \"#fdca26\"], [1.0, \"#f0f921\"]], \"type\": \"surface\"}], \"table\": [{\"cells\": {\"fill\": {\"color\": \"#EBF0F8\"}, \"line\": {\"color\": \"white\"}}, \"header\": {\"fill\": {\"color\": \"#C8D4E3\"}, \"line\": {\"color\": \"white\"}}, \"type\": \"table\"}]}, \"layout\": {\"annotationdefaults\": {\"arrowcolor\": \"#2a3f5f\", \"arrowhead\": 0, \"arrowwidth\": 1}, \"coloraxis\": {\"colorbar\": {\"outlinewidth\": 0, \"ticks\": \"\"}}, \"colorscale\": {\"diverging\": [[0, \"#8e0152\"], [0.1, \"#c51b7d\"], [0.2, \"#de77ae\"], [0.3, \"#f1b6da\"], [0.4, \"#fde0ef\"], [0.5, \"#f7f7f7\"], [0.6, \"#e6f5d0\"], [0.7, \"#b8e186\"], [0.8, \"#7fbc41\"], [0.9, \"#4d9221\"], [1, \"#276419\"]], \"sequential\": [[0.0, \"#0d0887\"], [0.1111111111111111, \"#46039f\"], [0.2222222222222222, \"#7201a8\"], [0.3333333333333333, \"#9c179e\"], [0.4444444444444444, \"#bd3786\"], [0.5555555555555556, \"#d8576b\"], [0.6666666666666666, \"#ed7953\"], [0.7777777777777778, \"#fb9f3a\"], [0.8888888888888888, \"#fdca26\"], [1.0, \"#f0f921\"]], \"sequentialminus\": [[0.0, \"#0d0887\"], [0.1111111111111111, \"#46039f\"], [0.2222222222222222, \"#7201a8\"], [0.3333333333333333, \"#9c179e\"], [0.4444444444444444, \"#bd3786\"], [0.5555555555555556, \"#d8576b\"], [0.6666666666666666, \"#ed7953\"], [0.7777777777777778, \"#fb9f3a\"], [0.8888888888888888, \"#fdca26\"], [1.0, \"#f0f921\"]]}, \"colorway\": [\"#636efa\", \"#EF553B\", \"#00cc96\", \"#ab63fa\", \"#FFA15A\", \"#19d3f3\", \"#FF6692\", \"#B6E880\", \"#FF97FF\", \"#FECB52\"], \"font\": {\"color\": \"#2a3f5f\"}, \"geo\": {\"bgcolor\": \"white\", \"lakecolor\": \"white\", \"landcolor\": \"#E5ECF6\", \"showlakes\": true, \"showland\": true, \"subunitcolor\": \"white\"}, \"hoverlabel\": {\"align\": \"left\"}, \"hovermode\": \"closest\", \"mapbox\": {\"style\": \"light\"}, \"paper_bgcolor\": \"white\", \"plot_bgcolor\": \"#E5ECF6\", \"polar\": {\"angularaxis\": {\"gridcolor\": \"white\", \"linecolor\": \"white\", \"ticks\": \"\"}, \"bgcolor\": \"#E5ECF6\", \"radialaxis\": {\"gridcolor\": \"white\", \"linecolor\": \"white\", \"ticks\": \"\"}}, \"scene\": {\"xaxis\": {\"backgroundcolor\": \"#E5ECF6\", \"gridcolor\": \"white\", \"gridwidth\": 2, \"linecolor\": \"white\", \"showbackground\": true, \"ticks\": \"\", \"zerolinecolor\": \"white\"}, \"yaxis\": {\"backgroundcolor\": \"#E5ECF6\", \"gridcolor\": \"white\", \"gridwidth\": 2, \"linecolor\": \"white\", \"showbackground\": true, \"ticks\": \"\", \"zerolinecolor\": \"white\"}, \"zaxis\": {\"backgroundcolor\": \"#E5ECF6\", \"gridcolor\": \"white\", \"gridwidth\": 2, \"linecolor\": \"white\", \"showbackground\": true, \"ticks\": \"\", \"zerolinecolor\": \"white\"}}, \"shapedefaults\": {\"line\": {\"color\": \"#2a3f5f\"}}, \"ternary\": {\"aaxis\": {\"gridcolor\": \"white\", \"linecolor\": \"white\", \"ticks\": \"\"}, \"baxis\": {\"gridcolor\": \"white\", \"linecolor\": \"white\", \"ticks\": \"\"}, \"bgcolor\": \"#E5ECF6\", \"caxis\": {\"gridcolor\": \"white\", \"linecolor\": \"white\", \"ticks\": \"\"}}, \"title\": {\"x\": 0.05}, \"xaxis\": {\"automargin\": true, \"gridcolor\": \"white\", \"linecolor\": \"white\", \"ticks\": \"\", \"title\": {\"standoff\": 15}, \"zerolinecolor\": \"white\", \"zerolinewidth\": 2}, \"yaxis\": {\"automargin\": true, \"gridcolor\": \"white\", \"linecolor\": \"white\", \"ticks\": \"\", \"title\": {\"standoff\": 15}, \"zerolinecolor\": \"white\", \"zerolinewidth\": 2}}}, \"title\": {\"text\": \"Data Analyst jobs per state\"}},\n",
              "                        {\"responsive\": true}\n",
              "                    ).then(function(){\n",
              "                            \n",
              "var gd = document.getElementById('90d08d5c-0e32-477f-8a30-84076c9313dd');\n",
              "var x = new MutationObserver(function (mutations, observer) {{\n",
              "        var display = window.getComputedStyle(gd).display;\n",
              "        if (!display || display === 'none') {{\n",
              "            console.log([gd, 'removed!']);\n",
              "            Plotly.purge(gd);\n",
              "            observer.disconnect();\n",
              "        }}\n",
              "}});\n",
              "\n",
              "// Listen for the removal of the full notebook cells\n",
              "var notebookContainer = gd.closest('#notebook-container');\n",
              "if (notebookContainer) {{\n",
              "    x.observe(notebookContainer, {childList: true});\n",
              "}}\n",
              "\n",
              "// Listen for the clearing of the current output cell\n",
              "var outputEl = gd.closest('.output');\n",
              "if (outputEl) {{\n",
              "    x.observe(outputEl, {childList: true});\n",
              "}}\n",
              "\n",
              "                        })\n",
              "                };\n",
              "                \n",
              "            </script>\n",
              "        </div>\n",
              "</body>\n",
              "</html>"
            ]
          },
          "metadata": {
            "tags": []
          }
        }
      ]
    },
    {
      "cell_type": "markdown",
      "metadata": {
        "id": "p83GqGQ3_rOZ"
      },
      "source": [
        "iplot(choromap)"
      ]
    },
    {
      "cell_type": "code",
      "metadata": {
        "id": "VoJpkZtGCpox"
      },
      "source": [
        "salary_df=df.copy()\r\n",
        "salary_df['mean_salary']=(df['salary_max']+df['salary_min'])/2\r\n",
        "state_salary=pd.DataFrame(salary_df.groupby('State')['mean_salary'].mean()).reset_index()\r\n",
        "state_salary\r\n",
        "\r\n",
        "data = dict(type='choropleth',\r\n",
        "            locations = state_salary['State'],\r\n",
        "            locationmode = 'USA-states',\r\n",
        "            colorscale = 'blues',\r\n",
        "            z = state_salary['mean_salary'],\r\n",
        "            colorbar = {'title':\"salary\"}\r\n",
        "            )\r\n",
        "\r\n",
        "layout = dict(title = 'mean salary based on state',geo = dict(scope='usa'))\r\n",
        "\r\n",
        "#choromap = go.Figure(data = [data],layout = layout)\r\n",
        "#iplot(choromap)"
      ],
      "execution_count": null,
      "outputs": []
    },
    {
      "cell_type": "code",
      "metadata": {
        "colab": {
          "base_uri": "https://localhost:8080/",
          "height": 298
        },
        "id": "3vSwFb7r-duj",
        "outputId": "7e70e8af-60f9-4277-e5a2-5130f063d436"
      },
      "source": [
        "sns.distplot(salary_df.loc[salary_df['mean_salary']!=0, 'mean_salary'], color =\"#4090c5\")"
      ],
      "execution_count": null,
      "outputs": [
        {
          "output_type": "execute_result",
          "data": {
            "text/plain": [
              "<matplotlib.axes._subplots.AxesSubplot at 0x7f0f7655f1d0>"
            ]
          },
          "metadata": {
            "tags": []
          },
          "execution_count": 68
        },
        {
          "output_type": "display_data",
          "data": {
            "image/png": "[encoded data removed]",
            "text/plain": [
              "<Figure size 432x288 with 1 Axes>"
            ]
          },
          "metadata": {
            "tags": [],
            "needs_background": "light"
          }
        }
      ]
    },
    {
      "cell_type": "code",
      "metadata": {
        "colab": {
          "base_uri": "https://localhost:8080/",
          "height": 322
        },
        "id": "RqSIoWUPC4Xo",
        "outputId": "49228c2a-af31-4d11-c67d-524c7c43bb07"
      },
      "source": [
        "plt.figure(figsize=(20,7))\r\n",
        "sns.distplot(salary_df.loc[salary_df['mean_salary']!=0,'mean_salary'],color=\"#4090c5\")\r\n",
        "plt.xlabel('mean_salary',fontsize=15)\r\n",
        "plt.ylabel('probability density',fontsize=15)\r\n",
        "plt.title('distribution of mean salary',fontsize=17)"
      ],
      "execution_count": null,
      "outputs": [
        {
          "output_type": "execute_result",
          "data": {
            "text/plain": [
              "Text(0.5, 1.0, 'distribution of mean salary')"
            ]
          },
          "metadata": {
            "tags": []
          },
          "execution_count": 69
        },
        {
          "output_type": "display_data",
          "data": {
            "image/png": "[encoded data removed]",
            "text/plain": [
              "<Figure size 1440x504 with 1 Axes>"
            ]
          },
          "metadata": {
            "tags": [],
            "needs_background": "light"
          }
        }
      ]
    },
    {
      "cell_type": "code",
      "metadata": {
        "id": "rk3uMydvDfHx"
      },
      "source": [
        "temp_df=salary_df[salary_df['Max_revenue']!=0]\r\n",
        "size_revenue=pd.DataFrame(temp_df.groupby('Size')['mean_salary'].mean().sort_values()).reset_index()"
      ],
      "execution_count": null,
      "outputs": []
    },
    {
      "cell_type": "code",
      "metadata": {
        "colab": {
          "base_uri": "https://localhost:8080/",
          "height": 980
        },
        "id": "UdePd5FIDr7O",
        "outputId": "ee196434-cd26-4ceb-a3d5-8842a28bad48"
      },
      "source": [
        "temp_df"
      ],
      "execution_count": null,
      "outputs": [
        {
          "output_type": "execute_result",
          "data": {
            "text/html": [
              "<div>\n",
              "<style scoped>\n",
              "    .dataframe tbody tr th:only-of-type {\n",
              "        vertical-align: middle;\n",
              "    }\n",
              "\n",
              "    .dataframe tbody tr th {\n",
              "        vertical-align: top;\n",
              "    }\n",
              "\n",
              "    .dataframe thead th {\n",
              "        text-align: right;\n",
              "    }\n",
              "</style>\n",
              "<table border=\"1\" class=\"dataframe\">\n",
              "  <thead>\n",
              "    <tr style=\"text-align: right;\">\n",
              "      <th></th>\n",
              "      <th>Job Title</th>\n",
              "      <th>Job Description</th>\n",
              "      <th>Rating</th>\n",
              "      <th>Company Name</th>\n",
              "      <th>Headquarters</th>\n",
              "      <th>Size</th>\n",
              "      <th>Founded</th>\n",
              "      <th>Type of ownership</th>\n",
              "      <th>Industry</th>\n",
              "      <th>Sector</th>\n",
              "      <th>Revenue</th>\n",
              "      <th>Competitors</th>\n",
              "      <th>Easy Apply</th>\n",
              "      <th>salary_min</th>\n",
              "      <th>salary_max</th>\n",
              "      <th>City</th>\n",
              "      <th>State</th>\n",
              "      <th>Max_revenue</th>\n",
              "      <th>mean_salary</th>\n",
              "    </tr>\n",
              "  </thead>\n",
              "  <tbody>\n",
              "    <tr>\n",
              "      <th>0</th>\n",
              "      <td>Data Analyst</td>\n",
              "      <td>Are you eager to roll up your sleeves and harn...</td>\n",
              "      <td>3.2</td>\n",
              "      <td>Vera Institute of Justice</td>\n",
              "      <td>New York, NY</td>\n",
              "      <td>201 to 500</td>\n",
              "      <td>1961</td>\n",
              "      <td>Nonprofit Organization</td>\n",
              "      <td>Social Assistance</td>\n",
              "      <td>Non-Profit</td>\n",
              "      <td>$100 to $500 million (USD)</td>\n",
              "      <td>NaN</td>\n",
              "      <td>True</td>\n",
              "      <td>37</td>\n",
              "      <td>66</td>\n",
              "      <td>New York</td>\n",
              "      <td>NY</td>\n",
              "      <td>500.0</td>\n",
              "      <td>51.5</td>\n",
              "    </tr>\n",
              "    <tr>\n",
              "      <th>1</th>\n",
              "      <td>Quality Data Analyst</td>\n",
              "      <td>Overview\\n\\nProvides analytical and technical ...</td>\n",
              "      <td>3.8</td>\n",
              "      <td>Visiting Nurse Service of New York</td>\n",
              "      <td>New York, NY</td>\n",
              "      <td>10000+</td>\n",
              "      <td>1893</td>\n",
              "      <td>Nonprofit Organization</td>\n",
              "      <td>Health Care Services &amp; Hospitals</td>\n",
              "      <td>Health Care</td>\n",
              "      <td>$2 to $5 billion (USD)</td>\n",
              "      <td>NaN</td>\n",
              "      <td>True</td>\n",
              "      <td>37</td>\n",
              "      <td>66</td>\n",
              "      <td>New York</td>\n",
              "      <td>NY</td>\n",
              "      <td>5000.0</td>\n",
              "      <td>51.5</td>\n",
              "    </tr>\n",
              "    <tr>\n",
              "      <th>3</th>\n",
              "      <td>Data Analyst</td>\n",
              "      <td>Requisition NumberRR-0001939\\nRemote:Yes\\nWe c...</td>\n",
              "      <td>4.1</td>\n",
              "      <td>Celerity</td>\n",
              "      <td>McLean, VA</td>\n",
              "      <td>201 to 500</td>\n",
              "      <td>2002</td>\n",
              "      <td>Subsidiary or Business Segment</td>\n",
              "      <td>IT Services</td>\n",
              "      <td>Information Technology</td>\n",
              "      <td>$50 to $100 million (USD)</td>\n",
              "      <td>NaN</td>\n",
              "      <td>True</td>\n",
              "      <td>37</td>\n",
              "      <td>66</td>\n",
              "      <td>New York</td>\n",
              "      <td>NY</td>\n",
              "      <td>100.0</td>\n",
              "      <td>51.5</td>\n",
              "    </tr>\n",
              "    <tr>\n",
              "      <th>4</th>\n",
              "      <td>Reporting Data Analyst</td>\n",
              "      <td>ABOUT FANDUEL GROUP\\n\\nFanDuel Group is a worl...</td>\n",
              "      <td>3.9</td>\n",
              "      <td>FanDuel</td>\n",
              "      <td>New York, NY</td>\n",
              "      <td>501 to 1000</td>\n",
              "      <td>2009</td>\n",
              "      <td>Company - Private</td>\n",
              "      <td>Sports &amp; Recreation</td>\n",
              "      <td>Arts, Entertainment &amp; Recreation</td>\n",
              "      <td>$100 to $500 million (USD)</td>\n",
              "      <td>DraftKings</td>\n",
              "      <td>True</td>\n",
              "      <td>37</td>\n",
              "      <td>66</td>\n",
              "      <td>New York</td>\n",
              "      <td>NY</td>\n",
              "      <td>500.0</td>\n",
              "      <td>51.5</td>\n",
              "    </tr>\n",
              "    <tr>\n",
              "      <th>7</th>\n",
              "      <td>Data Science Analyst</td>\n",
              "      <td>Data Science Analyst\\n\\nJob Details\\nLevel\\nEx...</td>\n",
              "      <td>3.7</td>\n",
              "      <td>GNY Insurance Companies</td>\n",
              "      <td>New York, NY</td>\n",
              "      <td>201 to 500</td>\n",
              "      <td>1914</td>\n",
              "      <td>Company - Private</td>\n",
              "      <td>Insurance Carriers</td>\n",
              "      <td>Insurance</td>\n",
              "      <td>$100 to $500 million (USD)</td>\n",
              "      <td>Travelers, Chubb, Crum &amp; Forster</td>\n",
              "      <td>True</td>\n",
              "      <td>37</td>\n",
              "      <td>66</td>\n",
              "      <td>New York</td>\n",
              "      <td>NY</td>\n",
              "      <td>500.0</td>\n",
              "      <td>51.5</td>\n",
              "    </tr>\n",
              "    <tr>\n",
              "      <th>...</th>\n",
              "      <td>...</td>\n",
              "      <td>...</td>\n",
              "      <td>...</td>\n",
              "      <td>...</td>\n",
              "      <td>...</td>\n",
              "      <td>...</td>\n",
              "      <td>...</td>\n",
              "      <td>...</td>\n",
              "      <td>...</td>\n",
              "      <td>...</td>\n",
              "      <td>...</td>\n",
              "      <td>...</td>\n",
              "      <td>...</td>\n",
              "      <td>...</td>\n",
              "      <td>...</td>\n",
              "      <td>...</td>\n",
              "      <td>...</td>\n",
              "      <td>...</td>\n",
              "      <td>...</td>\n",
              "    </tr>\n",
              "    <tr>\n",
              "      <th>2245</th>\n",
              "      <td>Data Analyst Supporting the DEA #20-242</td>\n",
              "      <td>Salary:\\nPublished Job Title:\\nData Analyst Su...</td>\n",
              "      <td>2.8</td>\n",
              "      <td>Forfeiture Support Associates</td>\n",
              "      <td>Ashburn, VA</td>\n",
              "      <td>1001 to 5000</td>\n",
              "      <td>2004</td>\n",
              "      <td>Company - Private</td>\n",
              "      <td>Staffing &amp; Outsourcing</td>\n",
              "      <td>Business Services</td>\n",
              "      <td>$50 to $100 million (USD)</td>\n",
              "      <td>NaN</td>\n",
              "      <td>True</td>\n",
              "      <td>78</td>\n",
              "      <td>104</td>\n",
              "      <td>Centennial</td>\n",
              "      <td>CO</td>\n",
              "      <td>100.0</td>\n",
              "      <td>91.0</td>\n",
              "    </tr>\n",
              "    <tr>\n",
              "      <th>2247</th>\n",
              "      <td>Marketing/Communications - Data Analyst-Marketing</td>\n",
              "      <td>Job Description\\nJob Title: Marketing/Communic...</td>\n",
              "      <td>4.1</td>\n",
              "      <td>APN Software Services Inc.</td>\n",
              "      <td>Newark, CA</td>\n",
              "      <td>51 to 200</td>\n",
              "      <td>0</td>\n",
              "      <td>Company - Private</td>\n",
              "      <td>Computer Hardware &amp; Software</td>\n",
              "      <td>Information Technology</td>\n",
              "      <td>$25 to $50 million (USD)</td>\n",
              "      <td>NaN</td>\n",
              "      <td>True</td>\n",
              "      <td>78</td>\n",
              "      <td>104</td>\n",
              "      <td>Broomfield</td>\n",
              "      <td>CO</td>\n",
              "      <td>50.0</td>\n",
              "      <td>91.0</td>\n",
              "    </tr>\n",
              "    <tr>\n",
              "      <th>2249</th>\n",
              "      <td>Senior Data Analyst (Corporate Audit)</td>\n",
              "      <td>Position:\\nSenior Data Analyst (Corporate Audi...</td>\n",
              "      <td>2.9</td>\n",
              "      <td>Arrow Electronics</td>\n",
              "      <td>Centennial, CO</td>\n",
              "      <td>10000+</td>\n",
              "      <td>1935</td>\n",
              "      <td>Company - Public</td>\n",
              "      <td>Wholesale</td>\n",
              "      <td>Business Services</td>\n",
              "      <td>$10+ billion (USD)</td>\n",
              "      <td>Avnet, Ingram Micro, Tech Data</td>\n",
              "      <td>True</td>\n",
              "      <td>78</td>\n",
              "      <td>104</td>\n",
              "      <td>Centennial</td>\n",
              "      <td>CO</td>\n",
              "      <td>10000.0</td>\n",
              "      <td>91.0</td>\n",
              "    </tr>\n",
              "    <tr>\n",
              "      <th>2251</th>\n",
              "      <td>Data Analyst 3</td>\n",
              "      <td>Summary\\n\\nResponsible for working cross-funct...</td>\n",
              "      <td>3.1</td>\n",
              "      <td>Contingent Network Services</td>\n",
              "      <td>West Chester, OH</td>\n",
              "      <td>201 to 500</td>\n",
              "      <td>1984</td>\n",
              "      <td>Company - Private</td>\n",
              "      <td>Enterprise Software &amp; Network Solutions</td>\n",
              "      <td>Information Technology</td>\n",
              "      <td>$25 to $50 million (USD)</td>\n",
              "      <td>NaN</td>\n",
              "      <td>True</td>\n",
              "      <td>78</td>\n",
              "      <td>104</td>\n",
              "      <td>Centennial</td>\n",
              "      <td>CO</td>\n",
              "      <td>50.0</td>\n",
              "      <td>91.0</td>\n",
              "    </tr>\n",
              "    <tr>\n",
              "      <th>2252</th>\n",
              "      <td>Senior Quality Data Analyst</td>\n",
              "      <td>You.\\n\\nYou bring your body, mind, heart and s...</td>\n",
              "      <td>3.4</td>\n",
              "      <td>SCL Health</td>\n",
              "      <td>Broomfield, CO</td>\n",
              "      <td>10000+</td>\n",
              "      <td>1864</td>\n",
              "      <td>Nonprofit Organization</td>\n",
              "      <td>Health Care Services &amp; Hospitals</td>\n",
              "      <td>Health Care</td>\n",
              "      <td>$2 to $5 billion (USD)</td>\n",
              "      <td>Centura Health, HealthONE, Denver Health and H...</td>\n",
              "      <td>True</td>\n",
              "      <td>78</td>\n",
              "      <td>104</td>\n",
              "      <td>Broomfield</td>\n",
              "      <td>CO</td>\n",
              "      <td>5000.0</td>\n",
              "      <td>91.0</td>\n",
              "    </tr>\n",
              "  </tbody>\n",
              "</table>\n",
              "<p>1475 rows × 19 columns</p>\n",
              "</div>"
            ],
            "text/plain": [
              "                                              Job Title                                    Job Description  Rating                        Company Name      Headquarters          Size  Founded               Type of ownership                                 Industry                            Sector                     Revenue                                        Competitors  Easy Apply  salary_min  salary_max        City State  Max_revenue  mean_salary\n",
              "0                                          Data Analyst  Are you eager to roll up your sleeves and harn...     3.2           Vera Institute of Justice      New York, NY    201 to 500     1961          Nonprofit Organization                        Social Assistance                        Non-Profit  $100 to $500 million (USD)                                                NaN        True          37          66    New York    NY        500.0         51.5\n",
              "1                                  Quality Data Analyst  Overview\\n\\nProvides analytical and technical ...     3.8  Visiting Nurse Service of New York      New York, NY        10000+     1893          Nonprofit Organization         Health Care Services & Hospitals                       Health Care      $2 to $5 billion (USD)                                                NaN        True          37          66    New York    NY       5000.0         51.5\n",
              "3                                          Data Analyst  Requisition NumberRR-0001939\\nRemote:Yes\\nWe c...     4.1                            Celerity        McLean, VA    201 to 500     2002  Subsidiary or Business Segment                              IT Services            Information Technology   $50 to $100 million (USD)                                                NaN        True          37          66    New York    NY        100.0         51.5\n",
              "4                                Reporting Data Analyst  ABOUT FANDUEL GROUP\\n\\nFanDuel Group is a worl...     3.9                             FanDuel      New York, NY   501 to 1000     2009               Company - Private                      Sports & Recreation  Arts, Entertainment & Recreation  $100 to $500 million (USD)                                         DraftKings        True          37          66    New York    NY        500.0         51.5\n",
              "7                                  Data Science Analyst  Data Science Analyst\\n\\nJob Details\\nLevel\\nEx...     3.7             GNY Insurance Companies      New York, NY    201 to 500     1914               Company - Private                       Insurance Carriers                         Insurance  $100 to $500 million (USD)                   Travelers, Chubb, Crum & Forster        True          37          66    New York    NY        500.0         51.5\n",
              "...                                                 ...                                                ...     ...                                 ...               ...           ...      ...                             ...                                      ...                               ...                         ...                                                ...         ...         ...         ...         ...   ...          ...          ...\n",
              "2245            Data Analyst Supporting the DEA #20-242  Salary:\\nPublished Job Title:\\nData Analyst Su...     2.8       Forfeiture Support Associates       Ashburn, VA  1001 to 5000     2004               Company - Private                   Staffing & Outsourcing                 Business Services   $50 to $100 million (USD)                                                NaN        True          78         104  Centennial    CO        100.0         91.0\n",
              "2247  Marketing/Communications - Data Analyst-Marketing  Job Description\\nJob Title: Marketing/Communic...     4.1          APN Software Services Inc.        Newark, CA     51 to 200        0               Company - Private             Computer Hardware & Software            Information Technology    $25 to $50 million (USD)                                                NaN        True          78         104  Broomfield    CO         50.0         91.0\n",
              "2249              Senior Data Analyst (Corporate Audit)  Position:\\nSenior Data Analyst (Corporate Audi...     2.9                   Arrow Electronics    Centennial, CO        10000+     1935                Company - Public                                Wholesale                 Business Services          $10+ billion (USD)                     Avnet, Ingram Micro, Tech Data        True          78         104  Centennial    CO      10000.0         91.0\n",
              "2251                                     Data Analyst 3  Summary\\n\\nResponsible for working cross-funct...     3.1         Contingent Network Services  West Chester, OH    201 to 500     1984               Company - Private  Enterprise Software & Network Solutions            Information Technology    $25 to $50 million (USD)                                                NaN        True          78         104  Centennial    CO         50.0         91.0\n",
              "2252                        Senior Quality Data Analyst  You.\\n\\nYou bring your body, mind, heart and s...     3.4                          SCL Health    Broomfield, CO        10000+     1864          Nonprofit Organization         Health Care Services & Hospitals                       Health Care      $2 to $5 billion (USD)  Centura Health, HealthONE, Denver Health and H...        True          78         104  Broomfield    CO       5000.0         91.0\n",
              "\n",
              "[1475 rows x 19 columns]"
            ]
          },
          "metadata": {
            "tags": []
          },
          "execution_count": 71
        }
      ]
    },
    {
      "cell_type": "code",
      "metadata": {
        "id": "DtuOiSD5D1Fw"
      },
      "source": [
        ""
      ],
      "execution_count": null,
      "outputs": []
    },
    {
      "cell_type": "code",
      "metadata": {
        "colab": {
          "base_uri": "https://localhost:8080/",
          "height": 482
        },
        "id": "CK-nHZL7aYhP",
        "outputId": "89dabba1-f2ae-4133-c43e-320a75e55f0a"
      },
      "source": [
        "Title_salary=pd.DataFrame(temp_df.groupby('Job Title')['mean_salary'].mean()).reset_index().sort_values('mean_salary',ascending=False)\r\n",
        "plt.figure(figsize=(20,7))\r\n",
        "sns.barplot(x=Title_salary['Job Title'].head(20),y=Title_salary['mean_salary'].head(20),color='#4090c5')\r\n",
        "plt.xticks(rotation=60,horizontalalignment='right')\r\n",
        "plt.ylabel('mean salary in thousands of $',fontsize=15)\r\n",
        "plt.xlabel(\"Job Title\",fontsize=15)\r\n",
        "plt.title('top 20 Job Titles with highest salaries',fontsize=17)\r\n",
        "plt.xticks(fontsize=11)\r\n",
        "plt.yticks(fontsize=13)"
      ],
      "execution_count": null,
      "outputs": [
        {
          "output_type": "execute_result",
          "data": {
            "text/plain": [
              "(array([  0.,  20.,  40.,  60.,  80., 100., 120., 140., 160.]),\n",
              " <a list of 9 Text major ticklabel objects>)"
            ]
          },
          "metadata": {
            "tags": []
          },
          "execution_count": 72
        },
        {
          "output_type": "display_data",
          "data": {
            "image/png": "[encoded data removed]",
            "text/plain": [
              "<Figure size 1440x504 with 1 Axes>"
            ]
          },
          "metadata": {
            "tags": [],
            "needs_background": "light"
          }
        }
      ]
    },
    {
      "cell_type": "code",
      "metadata": {
        "id": "l-QRfBkGaYLa"
      },
      "source": [
        ""
      ],
      "execution_count": null,
      "outputs": []
    },
    {
      "cell_type": "code",
      "metadata": {
        "id": "0-5oejLSaYFP"
      },
      "source": [
        ""
      ],
      "execution_count": null,
      "outputs": []
    },
    {
      "cell_type": "code",
      "metadata": {
        "id": "C3w-ieeIaX_D"
      },
      "source": [
        ""
      ],
      "execution_count": null,
      "outputs": []
    },
    {
      "cell_type": "code",
      "metadata": {
        "id": "8HQ-ZTataX7R"
      },
      "source": [
        ""
      ],
      "execution_count": null,
      "outputs": []
    },
    {
      "cell_type": "code",
      "metadata": {
        "id": "RYY6IyJyaX0h"
      },
      "source": [
        ""
      ],
      "execution_count": null,
      "outputs": []
    },
    {
      "cell_type": "code",
      "metadata": {
        "id": "C89HpH8AaXyD"
      },
      "source": [
        ""
      ],
      "execution_count": null,
      "outputs": []
    },
    {
      "cell_type": "code",
      "metadata": {
        "id": "zeXxIKXpaXtv"
      },
      "source": [
        ""
      ],
      "execution_count": null,
      "outputs": []
    },
    {
      "cell_type": "code",
      "metadata": {
        "id": "YtbG7ks7aXqP"
      },
      "source": [
        ""
      ],
      "execution_count": null,
      "outputs": []
    }
  ]
}